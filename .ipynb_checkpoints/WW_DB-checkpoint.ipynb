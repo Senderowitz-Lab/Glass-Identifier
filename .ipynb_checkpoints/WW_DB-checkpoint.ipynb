{
 "cells": [
  {
   "cell_type": "markdown",
   "metadata": {},
   "source": [
    "# Code background"
   ]
  },
  {
   "cell_type": "code",
   "execution_count": 416,
   "metadata": {},
   "outputs": [],
   "source": [
    "# Maths\n",
    "import pandas as pd\n",
    "import numpy as np\n",
    "from scipy.stats import zscore\n",
    "import random\n",
    "\n",
    "# Plots\n",
    "import plotly.graph_objects as go\n",
    "\n",
    "# Dim Reduction\n",
    "from sklearn.manifold import TSNE\n",
    "from sklearn.manifold import MDS\n",
    "from sklearn.decomposition import PCA\n",
    "\n",
    "# ML\n",
    "from sklearn.ensemble import RandomForestClassifier\n",
    "from sklearn.neighbors import KNeighborsClassifier\n",
    "from sklearn.metrics import classification_report\n",
    "from sklearn.model_selection import train_test_split\n",
    "from sklearn.utils import shuffle"
   ]
  },
  {
   "cell_type": "markdown",
   "metadata": {},
   "source": [
    "# Load Data"
   ]
  },
  {
   "cell_type": "code",
   "execution_count": 417,
   "metadata": {},
   "outputs": [],
   "source": [
    "db_location = \"glass_fragments_procssed.xlsx\"\n",
    "db = pd.read_excel(db_location,sheet_name=\"all\")"
   ]
  },
  {
   "cell_type": "markdown",
   "metadata": {},
   "source": [
    "BINA"
   ]
  },
  {
   "cell_type": "code",
   "execution_count": 418,
   "metadata": {},
   "outputs": [
    {
     "name": "stderr",
     "output_type": "stream",
     "text": [
      "C:\\Users\\COMP\\AppData\\Local\\Programs\\Python\\Python310\\lib\\site-packages\\pandas\\core\\frame.py:3641: SettingWithCopyWarning:\n",
      "\n",
      "\n",
      "A value is trying to be set on a copy of a slice from a DataFrame.\n",
      "Try using .loc[row_indexer,col_indexer] = value instead\n",
      "\n",
      "See the caveats in the documentation: https://pandas.pydata.org/pandas-docs/stable/user_guide/indexing.html#returning-a-view-versus-a-copy\n",
      "\n"
     ]
    },
    {
     "data": {
      "text/plain": [
       "(92, 64)"
      ]
     },
     "execution_count": 418,
     "metadata": {},
     "output_type": "execute_result"
    }
   ],
   "source": [
    "BINA_features = ['NaK', 'MgK', 'AlK', 'SiK', 'S K', 'ClK', 'K KA', 'K KB', 'CaKA', 'CaKB', 'TiK', 'CrK', 'MnK', 'FeK', 'CoKA', 'CuKA', 'ZnKA', 'SrK']\n",
    "BINA = db[db[\"Source\"] == \"BINA\"]\n",
    "BINA[BINA_features] = BINA[BINA_features].apply(zscore)\n",
    "BINA.shape"
   ]
  },
  {
   "cell_type": "markdown",
   "metadata": {},
   "source": [
    "IRB"
   ]
  },
  {
   "cell_type": "code",
   "execution_count": 419,
   "metadata": {},
   "outputs": [
    {
     "data": {
      "text/plain": [
       "(96, 64)"
      ]
     },
     "execution_count": 419,
     "metadata": {},
     "output_type": "execute_result"
    }
   ],
   "source": [
    "IRB = db[db[\"Source\"] == \"IRB\"]\n",
    "IRB_features = ['NaK', 'MgK', 'AlK', 'SiK', 'S K',  'K KA', 'CaKA', 'CrK', 'MnK', 'FeK']\n",
    "IRB[IRB_features] = IRB[IRB_features].apply(zscore)\n",
    "IRB.shape"
   ]
  },
  {
   "cell_type": "markdown",
   "metadata": {},
   "source": [
    "HU"
   ]
  },
  {
   "cell_type": "code",
   "execution_count": 420,
   "metadata": {},
   "outputs": [
    {
     "data": {
      "text/plain": [
       "(96, 64)"
      ]
     },
     "execution_count": 420,
     "metadata": {},
     "output_type": "execute_result"
    }
   ],
   "source": [
    "HU = db[db[\"Source\"] == \"HU_3\"]\n",
    "HU_features = ['AlK', 'SiK',  'K KA', 'CaKA', 'TiK', 'FeK']\n",
    "HU[HU_features] = HU[HU_features].apply(zscore)\n",
    "HU.shape"
   ]
  },
  {
   "cell_type": "markdown",
   "metadata": {},
   "source": [
    "DEB"
   ]
  },
  {
   "cell_type": "code",
   "execution_count": 421,
   "metadata": {},
   "outputs": [
    {
     "data": {
      "text/plain": [
       "(48, 64)"
      ]
     },
     "execution_count": 421,
     "metadata": {},
     "output_type": "execute_result"
    }
   ],
   "source": [
    "DEB = db[db[\"Source\"] == \"DEB\"]\n",
    "DEB_features = ['NaK', 'MgK', 'AlK', 'SiK',  'K KA', 'CaKA', 'TiK', 'MnK' , 'FeK', 'CuKA', 'ZnKA', 'SrK', 'SnL1', 'Ba', 'Zr','Ce', 'Rb','Ga','B','La','Nd', 'Y','Pb','Th','Hf','Pr','As','Ge','U','Nb', 'Sm','Gd','Dy','Yb','Er','Cs','Sb','Ho','Eu','Tb','In','Lu','Tm', 'Bi']\n",
    "DEB[DEB_features] = DEB[DEB_features].apply(zscore)\n",
    "DEB.shape"
   ]
  },
  {
   "cell_type": "markdown",
   "metadata": {},
   "source": [
    "BARC"
   ]
  },
  {
   "cell_type": "code",
   "execution_count": 422,
   "metadata": {},
   "outputs": [
    {
     "data": {
      "text/plain": [
       "(48, 64)"
      ]
     },
     "execution_count": 422,
     "metadata": {},
     "output_type": "execute_result"
    }
   ],
   "source": [
    "BARC = db[db[\"Source\"] == \"BARC\"]\n",
    "BARC_features = ['NaK', 'MgK', 'AlK', 'SiK', 'CaKA', 'CrK', 'FeK','CoKA', 'ZnKA',  'Ba', 'Zr','Ce', 'Rb','La','Th','Hf', 'Sm','Yb','Cs','Eu', 'Sc', 'Ta']\n",
    "BARC[BARC_features] = BARC[BARC_features].apply(zscore)\n",
    "BARC.shape"
   ]
  },
  {
   "cell_type": "markdown",
   "metadata": {},
   "source": [
    "EDS"
   ]
  },
  {
   "cell_type": "code",
   "execution_count": 423,
   "metadata": {},
   "outputs": [
    {
     "data": {
      "text/plain": [
       "(96, 64)"
      ]
     },
     "execution_count": 423,
     "metadata": {},
     "output_type": "execute_result"
    }
   ],
   "source": [
    "EDS = db[db[\"Source\"] == \"SEM\"]\n",
    "EDS_features = ['NaK', 'MgK', 'AlK', 'SiK',  'K KA', 'CaKA', 'FeK']\n",
    "EDS[EDS_features] = EDS[EDS_features].apply(zscore)\n",
    "EDS.shape"
   ]
  },
  {
   "cell_type": "markdown",
   "metadata": {},
   "source": [
    "NARD"
   ]
  },
  {
   "cell_type": "code",
   "execution_count": 424,
   "metadata": {},
   "outputs": [
    {
     "data": {
      "text/plain": [
       "(20, 64)"
      ]
     },
     "execution_count": 424,
     "metadata": {},
     "output_type": "execute_result"
    }
   ],
   "source": [
    "NARD = db[db[\"Source\"] == \"NARD\"]\n",
    "NARD_features = ['NaK', 'MgK', 'AlK', 'SiK', 'ClK', 'K KA', 'CaKA', 'TiK', 'MnK', 'FeK', 'SrK','B', 'Sm','Gd']\n",
    "NARD[NARD_features] = NARD[NARD_features].apply(zscore)\n",
    "NARD.shape"
   ]
  },
  {
   "cell_type": "markdown",
   "metadata": {},
   "source": [
    "# Visualization"
   ]
  },
  {
   "cell_type": "markdown",
   "metadata": {},
   "source": [
    "## BINA"
   ]
  },
  {
   "cell_type": "code",
   "execution_count": 425,
   "metadata": {},
   "outputs": [
    {
     "data": {
      "application/vnd.plotly.v1+json": {
       "config": {
        "plotlyServerURL": "https://plot.ly"
       },
       "data": [
        {
         "mode": "markers",
         "name": "MAZDA",
         "type": "scatter",
         "x": [
          -1.5260044735999483,
          -2.1129080706150147,
          -1.4732215215238704,
          1.1952451464878036,
          -1.3708499039140403,
          -0.4275066682609775,
          -1.8943002444155774,
          -1.4241466219347176,
          -0.2551433820314292,
          0.8089832430407162,
          0.42043569211563087
         ],
         "y": [
          -0.9824015300362683,
          -0.9116917481117436,
          -1.6464430186439234,
          -1.1603432231711415,
          -2.1351572562713996,
          -1.6521034565082184,
          -3.1632117320571154,
          -1.7762404250544919,
          -2.277604220726166,
          -2.567363249155883,
          -2.233191862872624
         ]
        },
        {
         "mode": "markers",
         "name": "FIAT",
         "type": "scatter",
         "x": [
          -1.3473377728473754,
          -1.0473989542653754,
          1.0630776731385223,
          1.7673450653026987,
          -0.2104340250506386,
          -2.322687986612861,
          3.4415453670572966,
          3.108592743312854
         ],
         "y": [
          1.5081125101358854,
          1.4013378787324575,
          1.7985430733466041,
          1.714829863528007,
          0.611336273073447,
          0.7642619052342625,
          1.2034474598635627,
          1.2812110580269482
         ]
        },
        {
         "mode": "markers",
         "name": "HYNDAI",
         "type": "scatter",
         "x": [
          -1.1104016942414343,
          -4.915080826352328,
          -4.893359955886077,
          -2.319128776853524,
          0.7984964470164377,
          1.9707605672884492,
          2.7388814185555668,
          1.1629788773329883,
          1.0554742953108505,
          1.2729858698218905,
          1.3452812712509852,
          0.11741093478299641,
          -3.62793502844198,
          -4.364535546920377,
          -2.8616925681689356,
          -3.250247667692154,
          2.0718084444795117,
          3.2787749858199358,
          2.292017850316949,
          2.495851790799447,
          0.6988355956659953,
          1.7674910448615002,
          1.9430830007894229
         ],
         "y": [
          0.5367055045584367,
          1.4498944656593376,
          2.000001330911677,
          1.0477286407424669,
          -0.1806674340212916,
          0.06627139372488279,
          0.5533813831468483,
          0.6733810833065907,
          0.8121761432023651,
          -3.024138287827185,
          0.630925078743303,
          0.5714788833170953,
          0.4231500588467213,
          0.46555740160487685,
          0.10595720738346236,
          0.479297602931228,
          -1.0320009821623908,
          -0.9331630637247662,
          -0.12449698922617247,
          -0.01593828255275521,
          -0.35158507966280217,
          -3.6433089590245453,
          -0.5344576148089605
         ]
        },
        {
         "mode": "markers",
         "name": "HUNDA",
         "type": "scatter",
         "x": [
          1.1939143431365642,
          -1.290734189076449,
          -2.1129590722367393,
          -1.642267427326362,
          1.6099294890353377,
          2.33961733540785,
          0.6403569893185742,
          1.2095921920074209,
          0.26972301868103643
         ],
         "y": [
          3.195288266160408,
          4.449212710995571,
          4.018078628833973,
          4.370128838762965,
          2.116195265801618,
          1.9379499128684208,
          2.8420613216903847,
          2.726184802516039,
          2.92404431629018
         ]
        },
        {
         "mode": "markers",
         "name": "FORD",
         "type": "scatter",
         "x": [
          -2.713263997213652,
          -4.203591073775386,
          2.952018238999077,
          2.0039980305044978,
          -0.987025079417595,
          -2.933828243294989,
          3.2866892931355722,
          3.512590711125466
         ],
         "y": [
          1.9273549809896677,
          1.2961500056212722,
          0.9762142557449265,
          0.9874417621926004,
          1.3476744611513,
          0.7079117851269131,
          0.22199902149278491,
          -0.18068884900961643
         ]
        },
        {
         "mode": "markers",
         "name": "Daewoo",
         "type": "scatter",
         "x": [
          -0.9594534589532169,
          -0.8916276769462931,
          -0.9780539549061221,
          -0.12436656459341573,
          0.5031053251023184,
          0.08370165041139616,
          0.13989118821965518
         ],
         "y": [
          -0.5188939459980745,
          -0.23118805929077765,
          -0.4847200905967277,
          -1.304062461576141,
          -1.5553182392190594,
          -1.1343918168217042,
          -1.250437544439376
         ]
        },
        {
         "mode": "markers",
         "name": "Subaru",
         "type": "scatter",
         "x": [
          -3.3286125965052,
          -2.611664453762345,
          0.3949833877847996,
          1.5771440202129672,
          -0.9021094312335449,
          -1.8198213861045551,
          -0.6134068997816705,
          0.22392618750360674,
          2.714093916411747
         ],
         "y": [
          -0.42146219275519886,
          -1.0621564962586156,
          -1.4960711363557413,
          -1.190709825679257,
          -1.7836510378888126,
          -1.9158352974372785,
          -1.9776359976444555,
          -2.154998263353011,
          -1.6836580089290312
         ]
        },
        {
         "mode": "markers",
         "name": "Renault",
         "type": "scatter",
         "x": [
          2.6631460860652174,
          3.0724226164034807,
          3.6766398542665932,
          3.279817114678074,
          3.3823375129181974,
          1.4146618380371538
         ],
         "y": [
          0.12537046514731567,
          0.011452973700804232,
          -1.49282455848905,
          -0.689010186329361,
          -0.7298396230994784,
          -2.566185549020881
         ]
        },
        {
         "mode": "markers",
         "name": "Peugeot",
         "type": "scatter",
         "x": [
          0.2991552848801671,
          4.997476845787691,
          -3.9450034150704614,
          0.01152883207665004,
          1.0625451194046034,
          0.7467887382223495,
          -2.4772240481740377
         ],
         "y": [
          1.3990203859390578,
          2.925825045471344,
          0.5254217249150983,
          0.6680231981575934,
          2.3193230122367066,
          2.523693073349605,
          -0.1951525707634075
         ]
        },
        {
         "mode": "markers",
         "name": "Mitsubishi",
         "type": "scatter",
         "x": [
          -2.673356108289292,
          -2.785694183223747,
          -1.338781935531491,
          -1.989985599241306
         ],
         "y": [
          -2.1344193461971077,
          -2.2567276151765716,
          -2.844605839870845,
          -3.040853447357593
         ]
        }
       ],
       "layout": {
        "template": {
         "data": {
          "bar": [
           {
            "error_x": {
             "color": "#2a3f5f"
            },
            "error_y": {
             "color": "#2a3f5f"
            },
            "marker": {
             "line": {
              "color": "#E5ECF6",
              "width": 0.5
             },
             "pattern": {
              "fillmode": "overlay",
              "size": 10,
              "solidity": 0.2
             }
            },
            "type": "bar"
           }
          ],
          "barpolar": [
           {
            "marker": {
             "line": {
              "color": "#E5ECF6",
              "width": 0.5
             },
             "pattern": {
              "fillmode": "overlay",
              "size": 10,
              "solidity": 0.2
             }
            },
            "type": "barpolar"
           }
          ],
          "carpet": [
           {
            "aaxis": {
             "endlinecolor": "#2a3f5f",
             "gridcolor": "white",
             "linecolor": "white",
             "minorgridcolor": "white",
             "startlinecolor": "#2a3f5f"
            },
            "baxis": {
             "endlinecolor": "#2a3f5f",
             "gridcolor": "white",
             "linecolor": "white",
             "minorgridcolor": "white",
             "startlinecolor": "#2a3f5f"
            },
            "type": "carpet"
           }
          ],
          "choropleth": [
           {
            "colorbar": {
             "outlinewidth": 0,
             "ticks": ""
            },
            "type": "choropleth"
           }
          ],
          "contour": [
           {
            "colorbar": {
             "outlinewidth": 0,
             "ticks": ""
            },
            "colorscale": [
             [
              0,
              "#0d0887"
             ],
             [
              0.1111111111111111,
              "#46039f"
             ],
             [
              0.2222222222222222,
              "#7201a8"
             ],
             [
              0.3333333333333333,
              "#9c179e"
             ],
             [
              0.4444444444444444,
              "#bd3786"
             ],
             [
              0.5555555555555556,
              "#d8576b"
             ],
             [
              0.6666666666666666,
              "#ed7953"
             ],
             [
              0.7777777777777778,
              "#fb9f3a"
             ],
             [
              0.8888888888888888,
              "#fdca26"
             ],
             [
              1,
              "#f0f921"
             ]
            ],
            "type": "contour"
           }
          ],
          "contourcarpet": [
           {
            "colorbar": {
             "outlinewidth": 0,
             "ticks": ""
            },
            "type": "contourcarpet"
           }
          ],
          "heatmap": [
           {
            "colorbar": {
             "outlinewidth": 0,
             "ticks": ""
            },
            "colorscale": [
             [
              0,
              "#0d0887"
             ],
             [
              0.1111111111111111,
              "#46039f"
             ],
             [
              0.2222222222222222,
              "#7201a8"
             ],
             [
              0.3333333333333333,
              "#9c179e"
             ],
             [
              0.4444444444444444,
              "#bd3786"
             ],
             [
              0.5555555555555556,
              "#d8576b"
             ],
             [
              0.6666666666666666,
              "#ed7953"
             ],
             [
              0.7777777777777778,
              "#fb9f3a"
             ],
             [
              0.8888888888888888,
              "#fdca26"
             ],
             [
              1,
              "#f0f921"
             ]
            ],
            "type": "heatmap"
           }
          ],
          "heatmapgl": [
           {
            "colorbar": {
             "outlinewidth": 0,
             "ticks": ""
            },
            "colorscale": [
             [
              0,
              "#0d0887"
             ],
             [
              0.1111111111111111,
              "#46039f"
             ],
             [
              0.2222222222222222,
              "#7201a8"
             ],
             [
              0.3333333333333333,
              "#9c179e"
             ],
             [
              0.4444444444444444,
              "#bd3786"
             ],
             [
              0.5555555555555556,
              "#d8576b"
             ],
             [
              0.6666666666666666,
              "#ed7953"
             ],
             [
              0.7777777777777778,
              "#fb9f3a"
             ],
             [
              0.8888888888888888,
              "#fdca26"
             ],
             [
              1,
              "#f0f921"
             ]
            ],
            "type": "heatmapgl"
           }
          ],
          "histogram": [
           {
            "marker": {
             "pattern": {
              "fillmode": "overlay",
              "size": 10,
              "solidity": 0.2
             }
            },
            "type": "histogram"
           }
          ],
          "histogram2d": [
           {
            "colorbar": {
             "outlinewidth": 0,
             "ticks": ""
            },
            "colorscale": [
             [
              0,
              "#0d0887"
             ],
             [
              0.1111111111111111,
              "#46039f"
             ],
             [
              0.2222222222222222,
              "#7201a8"
             ],
             [
              0.3333333333333333,
              "#9c179e"
             ],
             [
              0.4444444444444444,
              "#bd3786"
             ],
             [
              0.5555555555555556,
              "#d8576b"
             ],
             [
              0.6666666666666666,
              "#ed7953"
             ],
             [
              0.7777777777777778,
              "#fb9f3a"
             ],
             [
              0.8888888888888888,
              "#fdca26"
             ],
             [
              1,
              "#f0f921"
             ]
            ],
            "type": "histogram2d"
           }
          ],
          "histogram2dcontour": [
           {
            "colorbar": {
             "outlinewidth": 0,
             "ticks": ""
            },
            "colorscale": [
             [
              0,
              "#0d0887"
             ],
             [
              0.1111111111111111,
              "#46039f"
             ],
             [
              0.2222222222222222,
              "#7201a8"
             ],
             [
              0.3333333333333333,
              "#9c179e"
             ],
             [
              0.4444444444444444,
              "#bd3786"
             ],
             [
              0.5555555555555556,
              "#d8576b"
             ],
             [
              0.6666666666666666,
              "#ed7953"
             ],
             [
              0.7777777777777778,
              "#fb9f3a"
             ],
             [
              0.8888888888888888,
              "#fdca26"
             ],
             [
              1,
              "#f0f921"
             ]
            ],
            "type": "histogram2dcontour"
           }
          ],
          "mesh3d": [
           {
            "colorbar": {
             "outlinewidth": 0,
             "ticks": ""
            },
            "type": "mesh3d"
           }
          ],
          "parcoords": [
           {
            "line": {
             "colorbar": {
              "outlinewidth": 0,
              "ticks": ""
             }
            },
            "type": "parcoords"
           }
          ],
          "pie": [
           {
            "automargin": true,
            "type": "pie"
           }
          ],
          "scatter": [
           {
            "marker": {
             "colorbar": {
              "outlinewidth": 0,
              "ticks": ""
             }
            },
            "type": "scatter"
           }
          ],
          "scatter3d": [
           {
            "line": {
             "colorbar": {
              "outlinewidth": 0,
              "ticks": ""
             }
            },
            "marker": {
             "colorbar": {
              "outlinewidth": 0,
              "ticks": ""
             }
            },
            "type": "scatter3d"
           }
          ],
          "scattercarpet": [
           {
            "marker": {
             "colorbar": {
              "outlinewidth": 0,
              "ticks": ""
             }
            },
            "type": "scattercarpet"
           }
          ],
          "scattergeo": [
           {
            "marker": {
             "colorbar": {
              "outlinewidth": 0,
              "ticks": ""
             }
            },
            "type": "scattergeo"
           }
          ],
          "scattergl": [
           {
            "marker": {
             "colorbar": {
              "outlinewidth": 0,
              "ticks": ""
             }
            },
            "type": "scattergl"
           }
          ],
          "scattermapbox": [
           {
            "marker": {
             "colorbar": {
              "outlinewidth": 0,
              "ticks": ""
             }
            },
            "type": "scattermapbox"
           }
          ],
          "scatterpolar": [
           {
            "marker": {
             "colorbar": {
              "outlinewidth": 0,
              "ticks": ""
             }
            },
            "type": "scatterpolar"
           }
          ],
          "scatterpolargl": [
           {
            "marker": {
             "colorbar": {
              "outlinewidth": 0,
              "ticks": ""
             }
            },
            "type": "scatterpolargl"
           }
          ],
          "scatterternary": [
           {
            "marker": {
             "colorbar": {
              "outlinewidth": 0,
              "ticks": ""
             }
            },
            "type": "scatterternary"
           }
          ],
          "surface": [
           {
            "colorbar": {
             "outlinewidth": 0,
             "ticks": ""
            },
            "colorscale": [
             [
              0,
              "#0d0887"
             ],
             [
              0.1111111111111111,
              "#46039f"
             ],
             [
              0.2222222222222222,
              "#7201a8"
             ],
             [
              0.3333333333333333,
              "#9c179e"
             ],
             [
              0.4444444444444444,
              "#bd3786"
             ],
             [
              0.5555555555555556,
              "#d8576b"
             ],
             [
              0.6666666666666666,
              "#ed7953"
             ],
             [
              0.7777777777777778,
              "#fb9f3a"
             ],
             [
              0.8888888888888888,
              "#fdca26"
             ],
             [
              1,
              "#f0f921"
             ]
            ],
            "type": "surface"
           }
          ],
          "table": [
           {
            "cells": {
             "fill": {
              "color": "#EBF0F8"
             },
             "line": {
              "color": "white"
             }
            },
            "header": {
             "fill": {
              "color": "#C8D4E3"
             },
             "line": {
              "color": "white"
             }
            },
            "type": "table"
           }
          ]
         },
         "layout": {
          "annotationdefaults": {
           "arrowcolor": "#2a3f5f",
           "arrowhead": 0,
           "arrowwidth": 1
          },
          "autotypenumbers": "strict",
          "coloraxis": {
           "colorbar": {
            "outlinewidth": 0,
            "ticks": ""
           }
          },
          "colorscale": {
           "diverging": [
            [
             0,
             "#8e0152"
            ],
            [
             0.1,
             "#c51b7d"
            ],
            [
             0.2,
             "#de77ae"
            ],
            [
             0.3,
             "#f1b6da"
            ],
            [
             0.4,
             "#fde0ef"
            ],
            [
             0.5,
             "#f7f7f7"
            ],
            [
             0.6,
             "#e6f5d0"
            ],
            [
             0.7,
             "#b8e186"
            ],
            [
             0.8,
             "#7fbc41"
            ],
            [
             0.9,
             "#4d9221"
            ],
            [
             1,
             "#276419"
            ]
           ],
           "sequential": [
            [
             0,
             "#0d0887"
            ],
            [
             0.1111111111111111,
             "#46039f"
            ],
            [
             0.2222222222222222,
             "#7201a8"
            ],
            [
             0.3333333333333333,
             "#9c179e"
            ],
            [
             0.4444444444444444,
             "#bd3786"
            ],
            [
             0.5555555555555556,
             "#d8576b"
            ],
            [
             0.6666666666666666,
             "#ed7953"
            ],
            [
             0.7777777777777778,
             "#fb9f3a"
            ],
            [
             0.8888888888888888,
             "#fdca26"
            ],
            [
             1,
             "#f0f921"
            ]
           ],
           "sequentialminus": [
            [
             0,
             "#0d0887"
            ],
            [
             0.1111111111111111,
             "#46039f"
            ],
            [
             0.2222222222222222,
             "#7201a8"
            ],
            [
             0.3333333333333333,
             "#9c179e"
            ],
            [
             0.4444444444444444,
             "#bd3786"
            ],
            [
             0.5555555555555556,
             "#d8576b"
            ],
            [
             0.6666666666666666,
             "#ed7953"
            ],
            [
             0.7777777777777778,
             "#fb9f3a"
            ],
            [
             0.8888888888888888,
             "#fdca26"
            ],
            [
             1,
             "#f0f921"
            ]
           ]
          },
          "colorway": [
           "#636efa",
           "#EF553B",
           "#00cc96",
           "#ab63fa",
           "#FFA15A",
           "#19d3f3",
           "#FF6692",
           "#B6E880",
           "#FF97FF",
           "#FECB52"
          ],
          "font": {
           "color": "#2a3f5f"
          },
          "geo": {
           "bgcolor": "white",
           "lakecolor": "white",
           "landcolor": "#E5ECF6",
           "showlakes": true,
           "showland": true,
           "subunitcolor": "white"
          },
          "hoverlabel": {
           "align": "left"
          },
          "hovermode": "closest",
          "mapbox": {
           "style": "light"
          },
          "paper_bgcolor": "white",
          "plot_bgcolor": "#E5ECF6",
          "polar": {
           "angularaxis": {
            "gridcolor": "white",
            "linecolor": "white",
            "ticks": ""
           },
           "bgcolor": "#E5ECF6",
           "radialaxis": {
            "gridcolor": "white",
            "linecolor": "white",
            "ticks": ""
           }
          },
          "scene": {
           "xaxis": {
            "backgroundcolor": "#E5ECF6",
            "gridcolor": "white",
            "gridwidth": 2,
            "linecolor": "white",
            "showbackground": true,
            "ticks": "",
            "zerolinecolor": "white"
           },
           "yaxis": {
            "backgroundcolor": "#E5ECF6",
            "gridcolor": "white",
            "gridwidth": 2,
            "linecolor": "white",
            "showbackground": true,
            "ticks": "",
            "zerolinecolor": "white"
           },
           "zaxis": {
            "backgroundcolor": "#E5ECF6",
            "gridcolor": "white",
            "gridwidth": 2,
            "linecolor": "white",
            "showbackground": true,
            "ticks": "",
            "zerolinecolor": "white"
           }
          },
          "shapedefaults": {
           "line": {
            "color": "#2a3f5f"
           }
          },
          "ternary": {
           "aaxis": {
            "gridcolor": "white",
            "linecolor": "white",
            "ticks": ""
           },
           "baxis": {
            "gridcolor": "white",
            "linecolor": "white",
            "ticks": ""
           },
           "bgcolor": "#E5ECF6",
           "caxis": {
            "gridcolor": "white",
            "linecolor": "white",
            "ticks": ""
           }
          },
          "title": {
           "x": 0.05
          },
          "xaxis": {
           "automargin": true,
           "gridcolor": "white",
           "linecolor": "white",
           "ticks": "",
           "title": {
            "standoff": 15
           },
           "zerolinecolor": "white",
           "zerolinewidth": 2
          },
          "yaxis": {
           "automargin": true,
           "gridcolor": "white",
           "linecolor": "white",
           "ticks": "",
           "title": {
            "standoff": 15
           },
           "zerolinecolor": "white",
           "zerolinewidth": 2
          }
         }
        }
       }
      }
     },
     "metadata": {},
     "output_type": "display_data"
    }
   ],
   "source": [
    "pca_bina = PCA(n_components=2)\n",
    "X_embedded = pca_bina.fit_transform(BINA[BINA_features])\n",
    "\n",
    "fig = go.Figure()\n",
    "fig.add_trace(go.Scatter(x=X_embedded[BINA['model']==\"Mazda\",0], y=X_embedded[BINA['model']==\"Mazda\",1],mode='markers', name=\"MAZDA\"))\n",
    "fig.add_trace(go.Scatter(x=X_embedded[BINA['model']==\"Fiat\",0], y=X_embedded[BINA['model']==\"Fiat\",1],mode='markers', name=\"FIAT\"))\n",
    "fig.add_trace(go.Scatter(x=X_embedded[BINA['model']==\"Hyundai\",0], y=X_embedded[BINA['model']==\"Hyundai\",1],mode='markers', name=\"HYNDAI\"))\n",
    "fig.add_trace(go.Scatter(x=X_embedded[BINA['model']==\"Honda\",0], y=X_embedded[BINA['model']==\"Honda\",1],mode='markers', name=\"HUNDA\"))\n",
    "fig.add_trace(go.Scatter(x=X_embedded[BINA['model']==\"Ford\",0], y=X_embedded[BINA['model']==\"Ford\",1],mode='markers', name=\"FORD\"))\n",
    "fig.add_trace(go.Scatter(x=X_embedded[BINA['model']==\"Daewoo\",0], y=X_embedded[BINA['model']==\"Daewoo\",1],mode='markers', name=\"Daewoo\"))\n",
    "fig.add_trace(go.Scatter(x=X_embedded[BINA['model']==\"Subaru\",0], y=X_embedded[BINA['model']==\"Subaru\",1],mode='markers', name=\"Subaru\"))\n",
    "fig.add_trace(go.Scatter(x=X_embedded[BINA['model']==\"Renault\",0], y=X_embedded[BINA['model']==\"Renault\",1],mode='markers', name=\"Renault\"))\n",
    "fig.add_trace(go.Scatter(x=X_embedded[BINA['model']==\"Peugeot\",0], y=X_embedded[BINA['model']==\"Peugeot\",1],mode='markers', name=\"Peugeot\"))\n",
    "fig.add_trace(go.Scatter(x=X_embedded[BINA['model']==\"Mitsubishi\",0], y=X_embedded[BINA['model']==\"Mitsubishi\",1],mode='markers', name=\"Mitsubishi\"))\n"
   ]
  },
  {
   "cell_type": "markdown",
   "metadata": {},
   "source": [
    "## DEB"
   ]
  },
  {
   "cell_type": "code",
   "execution_count": 426,
   "metadata": {},
   "outputs": [
    {
     "data": {
      "application/vnd.plotly.v1+json": {
       "config": {
        "plotlyServerURL": "https://plot.ly"
       },
       "data": [
        {
         "mode": "markers",
         "name": "MAZDA",
         "type": "scatter",
         "x": [
          -2.612484506995921,
          -3.3918906285610064,
          -2.6712792396277165,
          -1.3983904385056665
         ],
         "y": [
          4.708981511133063,
          3.81951598569946,
          3.6742479392439864,
          4.715925056524211
         ]
        },
        {
         "mode": "markers",
         "name": "FIAT",
         "type": "scatter",
         "x": [
          -0.8434332679412413,
          -0.4150128081088878,
          -0.3390524319012121,
          0.041986303146986134
         ],
         "y": [
          0.6861573399967869,
          0.5755457049693454,
          -2.3344124887547344,
          -2.771286454278629
         ]
        },
        {
         "mode": "markers",
         "name": "HYNDAI",
         "type": "scatter",
         "x": [
          1.0207098528030707,
          0.8449806950066551,
          3.160381493253119,
          3.2647457320285453,
          0.16360829529270424,
          1.5643852208253968,
          1.237897751201902,
          1.034312407554625,
          1.3778756920183508,
          0.37028417070777064,
          1.4662636338457886,
          5.632168948886843,
          0.6374481743916702,
          0.7598623729602265,
          1.1317480288596011
         ],
         "y": [
          -0.6994560188673925,
          -0.3931100501375474,
          -1.5098841128595357,
          -2.1446055928136096,
          -1.1683559437050803,
          -1.8943573335223323,
          -0.1830459375118248,
          -0.21873787671866907,
          -0.66062393072814,
          -1.009383054486132,
          -1.4667909553498755,
          5.319147101951206,
          -1.4376150684598807,
          -1.1900992309237872,
          -1.830609108003774
         ]
        },
        {
         "mode": "markers",
         "name": "HUNDA",
         "type": "scatter",
         "x": [
          -6.774068219519295,
          -6.830444222426905,
          -6.65495711887712,
          -6.779612992678419
         ],
         "y": [
          -5.071743623068157,
          -4.721455681662111,
          -4.494344537835913,
          -4.856911950092499
         ]
        },
        {
         "mode": "markers",
         "name": "FORD",
         "type": "scatter",
         "x": [
          0.40248422461275696,
          0.3421703574282349,
          0.3032887282815943,
          0.26741218981145726
         ],
         "y": [
          2.0630167873598593,
          1.1085670872889941,
          1.1815331458197211,
          0.9784228867516287
         ]
        },
        {
         "mode": "markers",
         "name": "Daewoo",
         "type": "scatter",
         "x": [
          -1.8007251431741522,
          -1.3523408704939501,
          -1.3614032230759552
         ],
         "y": [
          2.590409316505135,
          2.2975947771645138,
          2.3214504507356155
         ]
        },
        {
         "mode": "markers",
         "name": "Subaru",
         "type": "scatter",
         "x": [
          -2.862846311229104,
          -3.0956782256790945,
          -3.111042252269022,
          -3.123936082246285
         ],
         "y": [
          3.973466210479985,
          3.3723393630921046,
          3.054631344093155,
          2.4539587875799436
         ]
        },
        {
         "mode": "markers",
         "name": "Renault",
         "type": "scatter",
         "x": [
          13.628898521568212,
          13.496212164014919,
          1.586151017049433,
          -2.0629061542425604,
          -2.082768141262753
         ],
         "y": [
          -3.5507133209319965,
          -3.153951688227259,
          4.164311640044532,
          -0.6897261132321333,
          -0.4569671352836716
         ]
        },
        {
         "mode": "markers",
         "name": "Peugeot",
         "type": "scatter",
         "x": [
          -1.42754359697649,
          -5.101500215136261,
          0.4857292836235702
         ],
         "y": [
          -1.4361127844287016,
          -4.697641749061158,
          -0.944163655994937
         ]
        },
        {
         "mode": "markers",
         "name": "Mitsubishi",
         "type": "scatter",
         "x": [
          6.429565504809229,
          5.44274532694636
         ],
         "y": [
          0.1859034669047476,
          1.7409794936014957
         ]
        }
       ],
       "layout": {
        "template": {
         "data": {
          "bar": [
           {
            "error_x": {
             "color": "#2a3f5f"
            },
            "error_y": {
             "color": "#2a3f5f"
            },
            "marker": {
             "line": {
              "color": "#E5ECF6",
              "width": 0.5
             },
             "pattern": {
              "fillmode": "overlay",
              "size": 10,
              "solidity": 0.2
             }
            },
            "type": "bar"
           }
          ],
          "barpolar": [
           {
            "marker": {
             "line": {
              "color": "#E5ECF6",
              "width": 0.5
             },
             "pattern": {
              "fillmode": "overlay",
              "size": 10,
              "solidity": 0.2
             }
            },
            "type": "barpolar"
           }
          ],
          "carpet": [
           {
            "aaxis": {
             "endlinecolor": "#2a3f5f",
             "gridcolor": "white",
             "linecolor": "white",
             "minorgridcolor": "white",
             "startlinecolor": "#2a3f5f"
            },
            "baxis": {
             "endlinecolor": "#2a3f5f",
             "gridcolor": "white",
             "linecolor": "white",
             "minorgridcolor": "white",
             "startlinecolor": "#2a3f5f"
            },
            "type": "carpet"
           }
          ],
          "choropleth": [
           {
            "colorbar": {
             "outlinewidth": 0,
             "ticks": ""
            },
            "type": "choropleth"
           }
          ],
          "contour": [
           {
            "colorbar": {
             "outlinewidth": 0,
             "ticks": ""
            },
            "colorscale": [
             [
              0,
              "#0d0887"
             ],
             [
              0.1111111111111111,
              "#46039f"
             ],
             [
              0.2222222222222222,
              "#7201a8"
             ],
             [
              0.3333333333333333,
              "#9c179e"
             ],
             [
              0.4444444444444444,
              "#bd3786"
             ],
             [
              0.5555555555555556,
              "#d8576b"
             ],
             [
              0.6666666666666666,
              "#ed7953"
             ],
             [
              0.7777777777777778,
              "#fb9f3a"
             ],
             [
              0.8888888888888888,
              "#fdca26"
             ],
             [
              1,
              "#f0f921"
             ]
            ],
            "type": "contour"
           }
          ],
          "contourcarpet": [
           {
            "colorbar": {
             "outlinewidth": 0,
             "ticks": ""
            },
            "type": "contourcarpet"
           }
          ],
          "heatmap": [
           {
            "colorbar": {
             "outlinewidth": 0,
             "ticks": ""
            },
            "colorscale": [
             [
              0,
              "#0d0887"
             ],
             [
              0.1111111111111111,
              "#46039f"
             ],
             [
              0.2222222222222222,
              "#7201a8"
             ],
             [
              0.3333333333333333,
              "#9c179e"
             ],
             [
              0.4444444444444444,
              "#bd3786"
             ],
             [
              0.5555555555555556,
              "#d8576b"
             ],
             [
              0.6666666666666666,
              "#ed7953"
             ],
             [
              0.7777777777777778,
              "#fb9f3a"
             ],
             [
              0.8888888888888888,
              "#fdca26"
             ],
             [
              1,
              "#f0f921"
             ]
            ],
            "type": "heatmap"
           }
          ],
          "heatmapgl": [
           {
            "colorbar": {
             "outlinewidth": 0,
             "ticks": ""
            },
            "colorscale": [
             [
              0,
              "#0d0887"
             ],
             [
              0.1111111111111111,
              "#46039f"
             ],
             [
              0.2222222222222222,
              "#7201a8"
             ],
             [
              0.3333333333333333,
              "#9c179e"
             ],
             [
              0.4444444444444444,
              "#bd3786"
             ],
             [
              0.5555555555555556,
              "#d8576b"
             ],
             [
              0.6666666666666666,
              "#ed7953"
             ],
             [
              0.7777777777777778,
              "#fb9f3a"
             ],
             [
              0.8888888888888888,
              "#fdca26"
             ],
             [
              1,
              "#f0f921"
             ]
            ],
            "type": "heatmapgl"
           }
          ],
          "histogram": [
           {
            "marker": {
             "pattern": {
              "fillmode": "overlay",
              "size": 10,
              "solidity": 0.2
             }
            },
            "type": "histogram"
           }
          ],
          "histogram2d": [
           {
            "colorbar": {
             "outlinewidth": 0,
             "ticks": ""
            },
            "colorscale": [
             [
              0,
              "#0d0887"
             ],
             [
              0.1111111111111111,
              "#46039f"
             ],
             [
              0.2222222222222222,
              "#7201a8"
             ],
             [
              0.3333333333333333,
              "#9c179e"
             ],
             [
              0.4444444444444444,
              "#bd3786"
             ],
             [
              0.5555555555555556,
              "#d8576b"
             ],
             [
              0.6666666666666666,
              "#ed7953"
             ],
             [
              0.7777777777777778,
              "#fb9f3a"
             ],
             [
              0.8888888888888888,
              "#fdca26"
             ],
             [
              1,
              "#f0f921"
             ]
            ],
            "type": "histogram2d"
           }
          ],
          "histogram2dcontour": [
           {
            "colorbar": {
             "outlinewidth": 0,
             "ticks": ""
            },
            "colorscale": [
             [
              0,
              "#0d0887"
             ],
             [
              0.1111111111111111,
              "#46039f"
             ],
             [
              0.2222222222222222,
              "#7201a8"
             ],
             [
              0.3333333333333333,
              "#9c179e"
             ],
             [
              0.4444444444444444,
              "#bd3786"
             ],
             [
              0.5555555555555556,
              "#d8576b"
             ],
             [
              0.6666666666666666,
              "#ed7953"
             ],
             [
              0.7777777777777778,
              "#fb9f3a"
             ],
             [
              0.8888888888888888,
              "#fdca26"
             ],
             [
              1,
              "#f0f921"
             ]
            ],
            "type": "histogram2dcontour"
           }
          ],
          "mesh3d": [
           {
            "colorbar": {
             "outlinewidth": 0,
             "ticks": ""
            },
            "type": "mesh3d"
           }
          ],
          "parcoords": [
           {
            "line": {
             "colorbar": {
              "outlinewidth": 0,
              "ticks": ""
             }
            },
            "type": "parcoords"
           }
          ],
          "pie": [
           {
            "automargin": true,
            "type": "pie"
           }
          ],
          "scatter": [
           {
            "marker": {
             "colorbar": {
              "outlinewidth": 0,
              "ticks": ""
             }
            },
            "type": "scatter"
           }
          ],
          "scatter3d": [
           {
            "line": {
             "colorbar": {
              "outlinewidth": 0,
              "ticks": ""
             }
            },
            "marker": {
             "colorbar": {
              "outlinewidth": 0,
              "ticks": ""
             }
            },
            "type": "scatter3d"
           }
          ],
          "scattercarpet": [
           {
            "marker": {
             "colorbar": {
              "outlinewidth": 0,
              "ticks": ""
             }
            },
            "type": "scattercarpet"
           }
          ],
          "scattergeo": [
           {
            "marker": {
             "colorbar": {
              "outlinewidth": 0,
              "ticks": ""
             }
            },
            "type": "scattergeo"
           }
          ],
          "scattergl": [
           {
            "marker": {
             "colorbar": {
              "outlinewidth": 0,
              "ticks": ""
             }
            },
            "type": "scattergl"
           }
          ],
          "scattermapbox": [
           {
            "marker": {
             "colorbar": {
              "outlinewidth": 0,
              "ticks": ""
             }
            },
            "type": "scattermapbox"
           }
          ],
          "scatterpolar": [
           {
            "marker": {
             "colorbar": {
              "outlinewidth": 0,
              "ticks": ""
             }
            },
            "type": "scatterpolar"
           }
          ],
          "scatterpolargl": [
           {
            "marker": {
             "colorbar": {
              "outlinewidth": 0,
              "ticks": ""
             }
            },
            "type": "scatterpolargl"
           }
          ],
          "scatterternary": [
           {
            "marker": {
             "colorbar": {
              "outlinewidth": 0,
              "ticks": ""
             }
            },
            "type": "scatterternary"
           }
          ],
          "surface": [
           {
            "colorbar": {
             "outlinewidth": 0,
             "ticks": ""
            },
            "colorscale": [
             [
              0,
              "#0d0887"
             ],
             [
              0.1111111111111111,
              "#46039f"
             ],
             [
              0.2222222222222222,
              "#7201a8"
             ],
             [
              0.3333333333333333,
              "#9c179e"
             ],
             [
              0.4444444444444444,
              "#bd3786"
             ],
             [
              0.5555555555555556,
              "#d8576b"
             ],
             [
              0.6666666666666666,
              "#ed7953"
             ],
             [
              0.7777777777777778,
              "#fb9f3a"
             ],
             [
              0.8888888888888888,
              "#fdca26"
             ],
             [
              1,
              "#f0f921"
             ]
            ],
            "type": "surface"
           }
          ],
          "table": [
           {
            "cells": {
             "fill": {
              "color": "#EBF0F8"
             },
             "line": {
              "color": "white"
             }
            },
            "header": {
             "fill": {
              "color": "#C8D4E3"
             },
             "line": {
              "color": "white"
             }
            },
            "type": "table"
           }
          ]
         },
         "layout": {
          "annotationdefaults": {
           "arrowcolor": "#2a3f5f",
           "arrowhead": 0,
           "arrowwidth": 1
          },
          "autotypenumbers": "strict",
          "coloraxis": {
           "colorbar": {
            "outlinewidth": 0,
            "ticks": ""
           }
          },
          "colorscale": {
           "diverging": [
            [
             0,
             "#8e0152"
            ],
            [
             0.1,
             "#c51b7d"
            ],
            [
             0.2,
             "#de77ae"
            ],
            [
             0.3,
             "#f1b6da"
            ],
            [
             0.4,
             "#fde0ef"
            ],
            [
             0.5,
             "#f7f7f7"
            ],
            [
             0.6,
             "#e6f5d0"
            ],
            [
             0.7,
             "#b8e186"
            ],
            [
             0.8,
             "#7fbc41"
            ],
            [
             0.9,
             "#4d9221"
            ],
            [
             1,
             "#276419"
            ]
           ],
           "sequential": [
            [
             0,
             "#0d0887"
            ],
            [
             0.1111111111111111,
             "#46039f"
            ],
            [
             0.2222222222222222,
             "#7201a8"
            ],
            [
             0.3333333333333333,
             "#9c179e"
            ],
            [
             0.4444444444444444,
             "#bd3786"
            ],
            [
             0.5555555555555556,
             "#d8576b"
            ],
            [
             0.6666666666666666,
             "#ed7953"
            ],
            [
             0.7777777777777778,
             "#fb9f3a"
            ],
            [
             0.8888888888888888,
             "#fdca26"
            ],
            [
             1,
             "#f0f921"
            ]
           ],
           "sequentialminus": [
            [
             0,
             "#0d0887"
            ],
            [
             0.1111111111111111,
             "#46039f"
            ],
            [
             0.2222222222222222,
             "#7201a8"
            ],
            [
             0.3333333333333333,
             "#9c179e"
            ],
            [
             0.4444444444444444,
             "#bd3786"
            ],
            [
             0.5555555555555556,
             "#d8576b"
            ],
            [
             0.6666666666666666,
             "#ed7953"
            ],
            [
             0.7777777777777778,
             "#fb9f3a"
            ],
            [
             0.8888888888888888,
             "#fdca26"
            ],
            [
             1,
             "#f0f921"
            ]
           ]
          },
          "colorway": [
           "#636efa",
           "#EF553B",
           "#00cc96",
           "#ab63fa",
           "#FFA15A",
           "#19d3f3",
           "#FF6692",
           "#B6E880",
           "#FF97FF",
           "#FECB52"
          ],
          "font": {
           "color": "#2a3f5f"
          },
          "geo": {
           "bgcolor": "white",
           "lakecolor": "white",
           "landcolor": "#E5ECF6",
           "showlakes": true,
           "showland": true,
           "subunitcolor": "white"
          },
          "hoverlabel": {
           "align": "left"
          },
          "hovermode": "closest",
          "mapbox": {
           "style": "light"
          },
          "paper_bgcolor": "white",
          "plot_bgcolor": "#E5ECF6",
          "polar": {
           "angularaxis": {
            "gridcolor": "white",
            "linecolor": "white",
            "ticks": ""
           },
           "bgcolor": "#E5ECF6",
           "radialaxis": {
            "gridcolor": "white",
            "linecolor": "white",
            "ticks": ""
           }
          },
          "scene": {
           "xaxis": {
            "backgroundcolor": "#E5ECF6",
            "gridcolor": "white",
            "gridwidth": 2,
            "linecolor": "white",
            "showbackground": true,
            "ticks": "",
            "zerolinecolor": "white"
           },
           "yaxis": {
            "backgroundcolor": "#E5ECF6",
            "gridcolor": "white",
            "gridwidth": 2,
            "linecolor": "white",
            "showbackground": true,
            "ticks": "",
            "zerolinecolor": "white"
           },
           "zaxis": {
            "backgroundcolor": "#E5ECF6",
            "gridcolor": "white",
            "gridwidth": 2,
            "linecolor": "white",
            "showbackground": true,
            "ticks": "",
            "zerolinecolor": "white"
           }
          },
          "shapedefaults": {
           "line": {
            "color": "#2a3f5f"
           }
          },
          "ternary": {
           "aaxis": {
            "gridcolor": "white",
            "linecolor": "white",
            "ticks": ""
           },
           "baxis": {
            "gridcolor": "white",
            "linecolor": "white",
            "ticks": ""
           },
           "bgcolor": "#E5ECF6",
           "caxis": {
            "gridcolor": "white",
            "linecolor": "white",
            "ticks": ""
           }
          },
          "title": {
           "x": 0.05
          },
          "xaxis": {
           "automargin": true,
           "gridcolor": "white",
           "linecolor": "white",
           "ticks": "",
           "title": {
            "standoff": 15
           },
           "zerolinecolor": "white",
           "zerolinewidth": 2
          },
          "yaxis": {
           "automargin": true,
           "gridcolor": "white",
           "linecolor": "white",
           "ticks": "",
           "title": {
            "standoff": 15
           },
           "zerolinecolor": "white",
           "zerolinewidth": 2
          }
         }
        }
       }
      }
     },
     "metadata": {},
     "output_type": "display_data"
    }
   ],
   "source": [
    "pca_db = DEB\n",
    "pca_db_features = DEB_features\n",
    "\n",
    "pca = PCA(n_components=2)\n",
    "X_embedded = pca.fit_transform(pca_db[pca_db_features])\n",
    "\n",
    "fig = go.Figure()\n",
    "fig.add_trace(go.Scatter(x=X_embedded[pca_db['model']==\"Mazda\",0], y=X_embedded[pca_db['model']==\"Mazda\",1],mode='markers', name=\"MAZDA\"))\n",
    "fig.add_trace(go.Scatter(x=X_embedded[pca_db['model']==\"Fiat\",0], y=X_embedded[pca_db['model']==\"Fiat\",1],mode='markers', name=\"FIAT\"))\n",
    "fig.add_trace(go.Scatter(x=X_embedded[pca_db['model']==\"Hyundai\",0], y=X_embedded[pca_db['model']==\"Hyundai\",1],mode='markers', name=\"HYNDAI\"))\n",
    "fig.add_trace(go.Scatter(x=X_embedded[pca_db['model']==\"Honda\",0], y=X_embedded[pca_db['model']==\"Honda\",1],mode='markers', name=\"HUNDA\"))\n",
    "fig.add_trace(go.Scatter(x=X_embedded[pca_db['model']==\"Ford\",0], y=X_embedded[pca_db['model']==\"Ford\",1],mode='markers', name=\"FORD\"))\n",
    "fig.add_trace(go.Scatter(x=X_embedded[pca_db['model']==\"Daewoo\",0], y=X_embedded[pca_db['model']==\"Daewoo\",1],mode='markers', name=\"Daewoo\"))\n",
    "fig.add_trace(go.Scatter(x=X_embedded[pca_db['model']==\"Subaru\",0], y=X_embedded[pca_db['model']==\"Subaru\",1],mode='markers', name=\"Subaru\"))\n",
    "fig.add_trace(go.Scatter(x=X_embedded[pca_db['model']==\"Renault\",0], y=X_embedded[pca_db['model']==\"Renault\",1],mode='markers', name=\"Renault\"))\n",
    "fig.add_trace(go.Scatter(x=X_embedded[pca_db['model']==\"Peugeot\",0], y=X_embedded[pca_db['model']==\"Peugeot\",1],mode='markers', name=\"Peugeot\"))\n",
    "fig.add_trace(go.Scatter(x=X_embedded[pca_db['model']==\"Mitsubishi\",0], y=X_embedded[pca_db['model']==\"Mitsubishi\",1],mode='markers', name=\"Mitsubishi\"))"
   ]
  },
  {
   "cell_type": "code",
   "execution_count": 427,
   "metadata": {},
   "outputs": [
    {
     "data": {
      "application/vnd.plotly.v1+json": {
       "config": {
        "plotlyServerURL": "https://plot.ly"
       },
       "data": [
        {
         "mode": "markers",
         "name": "MAZDA",
         "type": "scatter",
         "x": [
          -3.510719400675516,
          -3.3786351230045963,
          -3.2457988221696876,
          -4.018303767652955
         ],
         "y": [
          1.8506683666120798,
          0.704865888981016,
          0.7651369755303047,
          1.5850086543375201
         ]
        },
        {
         "mode": "markers",
         "name": "FIAT",
         "type": "scatter",
         "x": [
          1.4425131387077312,
          2.497505675346615,
          2.123303779319027,
          2.526459956571543
         ],
         "y": [
          -0.3846877032786944,
          -0.49124013681307216,
          -0.6044946737260393,
          -0.24369527478358355
         ]
        },
        {
         "mode": "markers",
         "name": "HYNDAI",
         "type": "scatter",
         "x": [
          -0.34610809354432953,
          -0.18748950547211418,
          0.21725658846051285,
          0.4124299138090975,
          0.2711393097556495,
          0.004351395179281177,
          -0.5619116225572358,
          -0.24509521201893944,
          0.23514590368376434,
          0.3464737650057946,
          0.46054155523995255,
          -0.33750586095229285,
          0.9705308443615779,
          0.8334643843262549,
          1.2487570027818102
         ],
         "y": [
          0.5367161998910649,
          0.27443775349434607,
          0.5603685384067164,
          0.8144254331439157,
          1.0428106753681519,
          0.4249111741804612,
          0.6404373141165786,
          0.8969617311787953,
          1.1701647256806247,
          1.1016343247217457,
          1.0111036958097541,
          1.5139396107446068,
          0.9801029202609837,
          1.0962034634910285,
          1.0549856087684062
         ]
        },
        {
         "mode": "markers",
         "name": "HUNDA",
         "type": "scatter",
         "x": [
          -2.319300207339171,
          -2.491954051154125,
          -2.049667235826299,
          -2.4418990638009506
         ],
         "y": [
          -3.983740004307624,
          -3.905257080366095,
          -4.134850867834515,
          -4.313353644434755
         ]
        },
        {
         "mode": "markers",
         "name": "FORD",
         "type": "scatter",
         "x": [
          -0.009657068127914675,
          -0.0692830269695795,
          0.33662437551794294,
          0.2724911110191613
         ],
         "y": [
          -0.6535297375363434,
          -0.45294725587587814,
          -0.4586444815995163,
          -0.8574262644992102
         ]
        },
        {
         "mode": "markers",
         "name": "Daewoo",
         "type": "scatter",
         "x": [
          -0.5091296321023551,
          -0.4982094284690339,
          -0.15760640364964154
         ],
         "y": [
          0.7712597887454493,
          0.8100735225257533,
          0.9023952976942722
         ]
        },
        {
         "mode": "markers",
         "name": "Subaru",
         "type": "scatter",
         "x": [
          -3.1399608797486622,
          -3.2152931745428486,
          -3.591159489562977,
          -3.3982995660020103
         ],
         "y": [
          1.748703218496061,
          1.7970080075497257,
          1.0371971399813897,
          1.1962505407032002
         ]
        },
        {
         "mode": "markers",
         "name": "Renault",
         "type": "scatter",
         "x": [
          4.35029339513751,
          4.11264251866661,
          3.800972682819127,
          4.238160716817037,
          4.290852388823278
         ],
         "y": [
          -1.1184164861800598,
          -1.2918111822727822,
          -1.285451201507351,
          -1.6938253000021992,
          -2.252563796682249
         ]
        },
        {
         "mode": "markers",
         "name": "Peugeot",
         "type": "scatter",
         "x": [
          0.2663502027097848,
          -1.3653598703806096,
          -0.1730255747243915
         ],
         "y": [
          -2.970041791239368,
          -4.351188164000514,
          0.15092574382968643
         ]
        },
        {
         "mode": "markers",
         "name": "Mitsubishi",
         "type": "scatter",
         "x": [
          3.7334435184025234,
          2.2696679579866466
         ],
         "y": [
          4.3721542488585285,
          4.636314483837678
         ]
        }
       ],
       "layout": {
        "template": {
         "data": {
          "bar": [
           {
            "error_x": {
             "color": "#2a3f5f"
            },
            "error_y": {
             "color": "#2a3f5f"
            },
            "marker": {
             "line": {
              "color": "#E5ECF6",
              "width": 0.5
             },
             "pattern": {
              "fillmode": "overlay",
              "size": 10,
              "solidity": 0.2
             }
            },
            "type": "bar"
           }
          ],
          "barpolar": [
           {
            "marker": {
             "line": {
              "color": "#E5ECF6",
              "width": 0.5
             },
             "pattern": {
              "fillmode": "overlay",
              "size": 10,
              "solidity": 0.2
             }
            },
            "type": "barpolar"
           }
          ],
          "carpet": [
           {
            "aaxis": {
             "endlinecolor": "#2a3f5f",
             "gridcolor": "white",
             "linecolor": "white",
             "minorgridcolor": "white",
             "startlinecolor": "#2a3f5f"
            },
            "baxis": {
             "endlinecolor": "#2a3f5f",
             "gridcolor": "white",
             "linecolor": "white",
             "minorgridcolor": "white",
             "startlinecolor": "#2a3f5f"
            },
            "type": "carpet"
           }
          ],
          "choropleth": [
           {
            "colorbar": {
             "outlinewidth": 0,
             "ticks": ""
            },
            "type": "choropleth"
           }
          ],
          "contour": [
           {
            "colorbar": {
             "outlinewidth": 0,
             "ticks": ""
            },
            "colorscale": [
             [
              0,
              "#0d0887"
             ],
             [
              0.1111111111111111,
              "#46039f"
             ],
             [
              0.2222222222222222,
              "#7201a8"
             ],
             [
              0.3333333333333333,
              "#9c179e"
             ],
             [
              0.4444444444444444,
              "#bd3786"
             ],
             [
              0.5555555555555556,
              "#d8576b"
             ],
             [
              0.6666666666666666,
              "#ed7953"
             ],
             [
              0.7777777777777778,
              "#fb9f3a"
             ],
             [
              0.8888888888888888,
              "#fdca26"
             ],
             [
              1,
              "#f0f921"
             ]
            ],
            "type": "contour"
           }
          ],
          "contourcarpet": [
           {
            "colorbar": {
             "outlinewidth": 0,
             "ticks": ""
            },
            "type": "contourcarpet"
           }
          ],
          "heatmap": [
           {
            "colorbar": {
             "outlinewidth": 0,
             "ticks": ""
            },
            "colorscale": [
             [
              0,
              "#0d0887"
             ],
             [
              0.1111111111111111,
              "#46039f"
             ],
             [
              0.2222222222222222,
              "#7201a8"
             ],
             [
              0.3333333333333333,
              "#9c179e"
             ],
             [
              0.4444444444444444,
              "#bd3786"
             ],
             [
              0.5555555555555556,
              "#d8576b"
             ],
             [
              0.6666666666666666,
              "#ed7953"
             ],
             [
              0.7777777777777778,
              "#fb9f3a"
             ],
             [
              0.8888888888888888,
              "#fdca26"
             ],
             [
              1,
              "#f0f921"
             ]
            ],
            "type": "heatmap"
           }
          ],
          "heatmapgl": [
           {
            "colorbar": {
             "outlinewidth": 0,
             "ticks": ""
            },
            "colorscale": [
             [
              0,
              "#0d0887"
             ],
             [
              0.1111111111111111,
              "#46039f"
             ],
             [
              0.2222222222222222,
              "#7201a8"
             ],
             [
              0.3333333333333333,
              "#9c179e"
             ],
             [
              0.4444444444444444,
              "#bd3786"
             ],
             [
              0.5555555555555556,
              "#d8576b"
             ],
             [
              0.6666666666666666,
              "#ed7953"
             ],
             [
              0.7777777777777778,
              "#fb9f3a"
             ],
             [
              0.8888888888888888,
              "#fdca26"
             ],
             [
              1,
              "#f0f921"
             ]
            ],
            "type": "heatmapgl"
           }
          ],
          "histogram": [
           {
            "marker": {
             "pattern": {
              "fillmode": "overlay",
              "size": 10,
              "solidity": 0.2
             }
            },
            "type": "histogram"
           }
          ],
          "histogram2d": [
           {
            "colorbar": {
             "outlinewidth": 0,
             "ticks": ""
            },
            "colorscale": [
             [
              0,
              "#0d0887"
             ],
             [
              0.1111111111111111,
              "#46039f"
             ],
             [
              0.2222222222222222,
              "#7201a8"
             ],
             [
              0.3333333333333333,
              "#9c179e"
             ],
             [
              0.4444444444444444,
              "#bd3786"
             ],
             [
              0.5555555555555556,
              "#d8576b"
             ],
             [
              0.6666666666666666,
              "#ed7953"
             ],
             [
              0.7777777777777778,
              "#fb9f3a"
             ],
             [
              0.8888888888888888,
              "#fdca26"
             ],
             [
              1,
              "#f0f921"
             ]
            ],
            "type": "histogram2d"
           }
          ],
          "histogram2dcontour": [
           {
            "colorbar": {
             "outlinewidth": 0,
             "ticks": ""
            },
            "colorscale": [
             [
              0,
              "#0d0887"
             ],
             [
              0.1111111111111111,
              "#46039f"
             ],
             [
              0.2222222222222222,
              "#7201a8"
             ],
             [
              0.3333333333333333,
              "#9c179e"
             ],
             [
              0.4444444444444444,
              "#bd3786"
             ],
             [
              0.5555555555555556,
              "#d8576b"
             ],
             [
              0.6666666666666666,
              "#ed7953"
             ],
             [
              0.7777777777777778,
              "#fb9f3a"
             ],
             [
              0.8888888888888888,
              "#fdca26"
             ],
             [
              1,
              "#f0f921"
             ]
            ],
            "type": "histogram2dcontour"
           }
          ],
          "mesh3d": [
           {
            "colorbar": {
             "outlinewidth": 0,
             "ticks": ""
            },
            "type": "mesh3d"
           }
          ],
          "parcoords": [
           {
            "line": {
             "colorbar": {
              "outlinewidth": 0,
              "ticks": ""
             }
            },
            "type": "parcoords"
           }
          ],
          "pie": [
           {
            "automargin": true,
            "type": "pie"
           }
          ],
          "scatter": [
           {
            "marker": {
             "colorbar": {
              "outlinewidth": 0,
              "ticks": ""
             }
            },
            "type": "scatter"
           }
          ],
          "scatter3d": [
           {
            "line": {
             "colorbar": {
              "outlinewidth": 0,
              "ticks": ""
             }
            },
            "marker": {
             "colorbar": {
              "outlinewidth": 0,
              "ticks": ""
             }
            },
            "type": "scatter3d"
           }
          ],
          "scattercarpet": [
           {
            "marker": {
             "colorbar": {
              "outlinewidth": 0,
              "ticks": ""
             }
            },
            "type": "scattercarpet"
           }
          ],
          "scattergeo": [
           {
            "marker": {
             "colorbar": {
              "outlinewidth": 0,
              "ticks": ""
             }
            },
            "type": "scattergeo"
           }
          ],
          "scattergl": [
           {
            "marker": {
             "colorbar": {
              "outlinewidth": 0,
              "ticks": ""
             }
            },
            "type": "scattergl"
           }
          ],
          "scattermapbox": [
           {
            "marker": {
             "colorbar": {
              "outlinewidth": 0,
              "ticks": ""
             }
            },
            "type": "scattermapbox"
           }
          ],
          "scatterpolar": [
           {
            "marker": {
             "colorbar": {
              "outlinewidth": 0,
              "ticks": ""
             }
            },
            "type": "scatterpolar"
           }
          ],
          "scatterpolargl": [
           {
            "marker": {
             "colorbar": {
              "outlinewidth": 0,
              "ticks": ""
             }
            },
            "type": "scatterpolargl"
           }
          ],
          "scatterternary": [
           {
            "marker": {
             "colorbar": {
              "outlinewidth": 0,
              "ticks": ""
             }
            },
            "type": "scatterternary"
           }
          ],
          "surface": [
           {
            "colorbar": {
             "outlinewidth": 0,
             "ticks": ""
            },
            "colorscale": [
             [
              0,
              "#0d0887"
             ],
             [
              0.1111111111111111,
              "#46039f"
             ],
             [
              0.2222222222222222,
              "#7201a8"
             ],
             [
              0.3333333333333333,
              "#9c179e"
             ],
             [
              0.4444444444444444,
              "#bd3786"
             ],
             [
              0.5555555555555556,
              "#d8576b"
             ],
             [
              0.6666666666666666,
              "#ed7953"
             ],
             [
              0.7777777777777778,
              "#fb9f3a"
             ],
             [
              0.8888888888888888,
              "#fdca26"
             ],
             [
              1,
              "#f0f921"
             ]
            ],
            "type": "surface"
           }
          ],
          "table": [
           {
            "cells": {
             "fill": {
              "color": "#EBF0F8"
             },
             "line": {
              "color": "white"
             }
            },
            "header": {
             "fill": {
              "color": "#C8D4E3"
             },
             "line": {
              "color": "white"
             }
            },
            "type": "table"
           }
          ]
         },
         "layout": {
          "annotationdefaults": {
           "arrowcolor": "#2a3f5f",
           "arrowhead": 0,
           "arrowwidth": 1
          },
          "autotypenumbers": "strict",
          "coloraxis": {
           "colorbar": {
            "outlinewidth": 0,
            "ticks": ""
           }
          },
          "colorscale": {
           "diverging": [
            [
             0,
             "#8e0152"
            ],
            [
             0.1,
             "#c51b7d"
            ],
            [
             0.2,
             "#de77ae"
            ],
            [
             0.3,
             "#f1b6da"
            ],
            [
             0.4,
             "#fde0ef"
            ],
            [
             0.5,
             "#f7f7f7"
            ],
            [
             0.6,
             "#e6f5d0"
            ],
            [
             0.7,
             "#b8e186"
            ],
            [
             0.8,
             "#7fbc41"
            ],
            [
             0.9,
             "#4d9221"
            ],
            [
             1,
             "#276419"
            ]
           ],
           "sequential": [
            [
             0,
             "#0d0887"
            ],
            [
             0.1111111111111111,
             "#46039f"
            ],
            [
             0.2222222222222222,
             "#7201a8"
            ],
            [
             0.3333333333333333,
             "#9c179e"
            ],
            [
             0.4444444444444444,
             "#bd3786"
            ],
            [
             0.5555555555555556,
             "#d8576b"
            ],
            [
             0.6666666666666666,
             "#ed7953"
            ],
            [
             0.7777777777777778,
             "#fb9f3a"
            ],
            [
             0.8888888888888888,
             "#fdca26"
            ],
            [
             1,
             "#f0f921"
            ]
           ],
           "sequentialminus": [
            [
             0,
             "#0d0887"
            ],
            [
             0.1111111111111111,
             "#46039f"
            ],
            [
             0.2222222222222222,
             "#7201a8"
            ],
            [
             0.3333333333333333,
             "#9c179e"
            ],
            [
             0.4444444444444444,
             "#bd3786"
            ],
            [
             0.5555555555555556,
             "#d8576b"
            ],
            [
             0.6666666666666666,
             "#ed7953"
            ],
            [
             0.7777777777777778,
             "#fb9f3a"
            ],
            [
             0.8888888888888888,
             "#fdca26"
            ],
            [
             1,
             "#f0f921"
            ]
           ]
          },
          "colorway": [
           "#636efa",
           "#EF553B",
           "#00cc96",
           "#ab63fa",
           "#FFA15A",
           "#19d3f3",
           "#FF6692",
           "#B6E880",
           "#FF97FF",
           "#FECB52"
          ],
          "font": {
           "color": "#2a3f5f"
          },
          "geo": {
           "bgcolor": "white",
           "lakecolor": "white",
           "landcolor": "#E5ECF6",
           "showlakes": true,
           "showland": true,
           "subunitcolor": "white"
          },
          "hoverlabel": {
           "align": "left"
          },
          "hovermode": "closest",
          "mapbox": {
           "style": "light"
          },
          "paper_bgcolor": "white",
          "plot_bgcolor": "#E5ECF6",
          "polar": {
           "angularaxis": {
            "gridcolor": "white",
            "linecolor": "white",
            "ticks": ""
           },
           "bgcolor": "#E5ECF6",
           "radialaxis": {
            "gridcolor": "white",
            "linecolor": "white",
            "ticks": ""
           }
          },
          "scene": {
           "xaxis": {
            "backgroundcolor": "#E5ECF6",
            "gridcolor": "white",
            "gridwidth": 2,
            "linecolor": "white",
            "showbackground": true,
            "ticks": "",
            "zerolinecolor": "white"
           },
           "yaxis": {
            "backgroundcolor": "#E5ECF6",
            "gridcolor": "white",
            "gridwidth": 2,
            "linecolor": "white",
            "showbackground": true,
            "ticks": "",
            "zerolinecolor": "white"
           },
           "zaxis": {
            "backgroundcolor": "#E5ECF6",
            "gridcolor": "white",
            "gridwidth": 2,
            "linecolor": "white",
            "showbackground": true,
            "ticks": "",
            "zerolinecolor": "white"
           }
          },
          "shapedefaults": {
           "line": {
            "color": "#2a3f5f"
           }
          },
          "ternary": {
           "aaxis": {
            "gridcolor": "white",
            "linecolor": "white",
            "ticks": ""
           },
           "baxis": {
            "gridcolor": "white",
            "linecolor": "white",
            "ticks": ""
           },
           "bgcolor": "#E5ECF6",
           "caxis": {
            "gridcolor": "white",
            "linecolor": "white",
            "ticks": ""
           }
          },
          "title": {
           "x": 0.05
          },
          "xaxis": {
           "automargin": true,
           "gridcolor": "white",
           "linecolor": "white",
           "ticks": "",
           "title": {
            "standoff": 15
           },
           "zerolinecolor": "white",
           "zerolinewidth": 2
          },
          "yaxis": {
           "automargin": true,
           "gridcolor": "white",
           "linecolor": "white",
           "ticks": "",
           "title": {
            "standoff": 15
           },
           "zerolinecolor": "white",
           "zerolinewidth": 2
          }
         }
        }
       }
      }
     },
     "metadata": {},
     "output_type": "display_data"
    }
   ],
   "source": [
    "pca_db = BARC\n",
    "pca_db_features = BARC_features\n",
    "\n",
    "pca = PCA(n_components=2)\n",
    "X_embedded = pca.fit_transform(pca_db[pca_db_features])\n",
    "\n",
    "fig = go.Figure()\n",
    "fig.add_trace(go.Scatter(x=X_embedded[pca_db['model']==\"Mazda\",0], y=X_embedded[pca_db['model']==\"Mazda\",1],mode='markers', name=\"MAZDA\"))\n",
    "fig.add_trace(go.Scatter(x=X_embedded[pca_db['model']==\"Fiat\",0], y=X_embedded[pca_db['model']==\"Fiat\",1],mode='markers', name=\"FIAT\"))\n",
    "fig.add_trace(go.Scatter(x=X_embedded[pca_db['model']==\"Hyundai\",0], y=X_embedded[pca_db['model']==\"Hyundai\",1],mode='markers', name=\"HYNDAI\"))\n",
    "fig.add_trace(go.Scatter(x=X_embedded[pca_db['model']==\"Honda\",0], y=X_embedded[pca_db['model']==\"Honda\",1],mode='markers', name=\"HUNDA\"))\n",
    "fig.add_trace(go.Scatter(x=X_embedded[pca_db['model']==\"Ford\",0], y=X_embedded[pca_db['model']==\"Ford\",1],mode='markers', name=\"FORD\"))\n",
    "fig.add_trace(go.Scatter(x=X_embedded[pca_db['model']==\"Daewoo\",0], y=X_embedded[pca_db['model']==\"Daewoo\",1],mode='markers', name=\"Daewoo\"))\n",
    "fig.add_trace(go.Scatter(x=X_embedded[pca_db['model']==\"Subaru\",0], y=X_embedded[pca_db['model']==\"Subaru\",1],mode='markers', name=\"Subaru\"))\n",
    "fig.add_trace(go.Scatter(x=X_embedded[pca_db['model']==\"Renault\",0], y=X_embedded[pca_db['model']==\"Renault\",1],mode='markers', name=\"Renault\"))\n",
    "fig.add_trace(go.Scatter(x=X_embedded[pca_db['model']==\"Peugeot\",0], y=X_embedded[pca_db['model']==\"Peugeot\",1],mode='markers', name=\"Peugeot\"))\n",
    "fig.add_trace(go.Scatter(x=X_embedded[pca_db['model']==\"Mitsubishi\",0], y=X_embedded[pca_db['model']==\"Mitsubishi\",1],mode='markers', name=\"Mitsubishi\"))"
   ]
  },
  {
   "cell_type": "code",
   "execution_count": 428,
   "metadata": {},
   "outputs": [
    {
     "data": {
      "application/vnd.plotly.v1+json": {
       "config": {
        "plotlyServerURL": "https://plot.ly"
       },
       "data": [
        {
         "mode": "markers",
         "name": "MAZDA",
         "type": "scatter",
         "x": [
          -0.3009010387315295,
          -0.4806551481449801,
          -1.012023873424415,
          -0.5337173362078231
         ],
         "y": [
          -1.8771406729801796,
          -1.4748310178597377,
          -2.0142706469499396,
          -1.9720969367357253
         ]
        },
        {
         "mode": "markers",
         "name": "FIAT",
         "type": "scatter",
         "x": [
          0.7450085085841842,
          1.3978866554472278
         ],
         "y": [
          0.9562360620923643,
          1.8364687555606276
         ]
        },
        {
         "mode": "markers",
         "name": "HYNDAI",
         "type": "scatter",
         "x": [
          -0.8121508362645722,
          -1.6613149209430944
         ],
         "y": [
          0.220592605280185,
          0.7843009426765257
         ]
        },
        {
         "mode": "markers",
         "name": "HUNDA",
         "type": "scatter",
         "x": [
          3.7999512725483764,
          4.611922777208596,
          3.682481930842961
         ],
         "y": [
          0.5369485885012719,
          -0.5250473533895429,
          0.6286454115331872
         ]
        },
        {
         "mode": "markers",
         "name": "FORD",
         "type": "scatter",
         "x": [
          -1.2872921779011883,
          -1.4530719878018912
         ],
         "y": [
          -0.652873906755882,
          -0.6136820404415775
         ]
        },
        {
         "mode": "markers",
         "name": "Daewoo",
         "type": "scatter",
         "x": [
          -0.4273308120451117,
          -0.583291805272979
         ],
         "y": [
          -1.8478612170611204,
          -0.9793030711853641
         ]
        },
        {
         "mode": "markers",
         "name": "Subaru",
         "type": "scatter",
         "x": [],
         "y": []
        },
        {
         "mode": "markers",
         "name": "Renault",
         "type": "scatter",
         "x": [
          -2.87529282327572,
          -3.2124989971697473
         ],
         "y": [
          5.698588957060403,
          -2.102633266352893
         ]
        },
        {
         "mode": "markers",
         "name": "Peugeot",
         "type": "scatter",
         "x": [
          1.6128403645814693,
          2.0186391622954933
         ],
         "y": [
          0.951756191724343,
          0.9157144972839174
         ]
        },
        {
         "mode": "markers",
         "name": "Mitsubishi",
         "type": "scatter",
         "x": [
          -3.2291889143252552
         ],
         "y": [
          1.5304881179991356
         ]
        }
       ],
       "layout": {
        "template": {
         "data": {
          "bar": [
           {
            "error_x": {
             "color": "#2a3f5f"
            },
            "error_y": {
             "color": "#2a3f5f"
            },
            "marker": {
             "line": {
              "color": "#E5ECF6",
              "width": 0.5
             },
             "pattern": {
              "fillmode": "overlay",
              "size": 10,
              "solidity": 0.2
             }
            },
            "type": "bar"
           }
          ],
          "barpolar": [
           {
            "marker": {
             "line": {
              "color": "#E5ECF6",
              "width": 0.5
             },
             "pattern": {
              "fillmode": "overlay",
              "size": 10,
              "solidity": 0.2
             }
            },
            "type": "barpolar"
           }
          ],
          "carpet": [
           {
            "aaxis": {
             "endlinecolor": "#2a3f5f",
             "gridcolor": "white",
             "linecolor": "white",
             "minorgridcolor": "white",
             "startlinecolor": "#2a3f5f"
            },
            "baxis": {
             "endlinecolor": "#2a3f5f",
             "gridcolor": "white",
             "linecolor": "white",
             "minorgridcolor": "white",
             "startlinecolor": "#2a3f5f"
            },
            "type": "carpet"
           }
          ],
          "choropleth": [
           {
            "colorbar": {
             "outlinewidth": 0,
             "ticks": ""
            },
            "type": "choropleth"
           }
          ],
          "contour": [
           {
            "colorbar": {
             "outlinewidth": 0,
             "ticks": ""
            },
            "colorscale": [
             [
              0,
              "#0d0887"
             ],
             [
              0.1111111111111111,
              "#46039f"
             ],
             [
              0.2222222222222222,
              "#7201a8"
             ],
             [
              0.3333333333333333,
              "#9c179e"
             ],
             [
              0.4444444444444444,
              "#bd3786"
             ],
             [
              0.5555555555555556,
              "#d8576b"
             ],
             [
              0.6666666666666666,
              "#ed7953"
             ],
             [
              0.7777777777777778,
              "#fb9f3a"
             ],
             [
              0.8888888888888888,
              "#fdca26"
             ],
             [
              1,
              "#f0f921"
             ]
            ],
            "type": "contour"
           }
          ],
          "contourcarpet": [
           {
            "colorbar": {
             "outlinewidth": 0,
             "ticks": ""
            },
            "type": "contourcarpet"
           }
          ],
          "heatmap": [
           {
            "colorbar": {
             "outlinewidth": 0,
             "ticks": ""
            },
            "colorscale": [
             [
              0,
              "#0d0887"
             ],
             [
              0.1111111111111111,
              "#46039f"
             ],
             [
              0.2222222222222222,
              "#7201a8"
             ],
             [
              0.3333333333333333,
              "#9c179e"
             ],
             [
              0.4444444444444444,
              "#bd3786"
             ],
             [
              0.5555555555555556,
              "#d8576b"
             ],
             [
              0.6666666666666666,
              "#ed7953"
             ],
             [
              0.7777777777777778,
              "#fb9f3a"
             ],
             [
              0.8888888888888888,
              "#fdca26"
             ],
             [
              1,
              "#f0f921"
             ]
            ],
            "type": "heatmap"
           }
          ],
          "heatmapgl": [
           {
            "colorbar": {
             "outlinewidth": 0,
             "ticks": ""
            },
            "colorscale": [
             [
              0,
              "#0d0887"
             ],
             [
              0.1111111111111111,
              "#46039f"
             ],
             [
              0.2222222222222222,
              "#7201a8"
             ],
             [
              0.3333333333333333,
              "#9c179e"
             ],
             [
              0.4444444444444444,
              "#bd3786"
             ],
             [
              0.5555555555555556,
              "#d8576b"
             ],
             [
              0.6666666666666666,
              "#ed7953"
             ],
             [
              0.7777777777777778,
              "#fb9f3a"
             ],
             [
              0.8888888888888888,
              "#fdca26"
             ],
             [
              1,
              "#f0f921"
             ]
            ],
            "type": "heatmapgl"
           }
          ],
          "histogram": [
           {
            "marker": {
             "pattern": {
              "fillmode": "overlay",
              "size": 10,
              "solidity": 0.2
             }
            },
            "type": "histogram"
           }
          ],
          "histogram2d": [
           {
            "colorbar": {
             "outlinewidth": 0,
             "ticks": ""
            },
            "colorscale": [
             [
              0,
              "#0d0887"
             ],
             [
              0.1111111111111111,
              "#46039f"
             ],
             [
              0.2222222222222222,
              "#7201a8"
             ],
             [
              0.3333333333333333,
              "#9c179e"
             ],
             [
              0.4444444444444444,
              "#bd3786"
             ],
             [
              0.5555555555555556,
              "#d8576b"
             ],
             [
              0.6666666666666666,
              "#ed7953"
             ],
             [
              0.7777777777777778,
              "#fb9f3a"
             ],
             [
              0.8888888888888888,
              "#fdca26"
             ],
             [
              1,
              "#f0f921"
             ]
            ],
            "type": "histogram2d"
           }
          ],
          "histogram2dcontour": [
           {
            "colorbar": {
             "outlinewidth": 0,
             "ticks": ""
            },
            "colorscale": [
             [
              0,
              "#0d0887"
             ],
             [
              0.1111111111111111,
              "#46039f"
             ],
             [
              0.2222222222222222,
              "#7201a8"
             ],
             [
              0.3333333333333333,
              "#9c179e"
             ],
             [
              0.4444444444444444,
              "#bd3786"
             ],
             [
              0.5555555555555556,
              "#d8576b"
             ],
             [
              0.6666666666666666,
              "#ed7953"
             ],
             [
              0.7777777777777778,
              "#fb9f3a"
             ],
             [
              0.8888888888888888,
              "#fdca26"
             ],
             [
              1,
              "#f0f921"
             ]
            ],
            "type": "histogram2dcontour"
           }
          ],
          "mesh3d": [
           {
            "colorbar": {
             "outlinewidth": 0,
             "ticks": ""
            },
            "type": "mesh3d"
           }
          ],
          "parcoords": [
           {
            "line": {
             "colorbar": {
              "outlinewidth": 0,
              "ticks": ""
             }
            },
            "type": "parcoords"
           }
          ],
          "pie": [
           {
            "automargin": true,
            "type": "pie"
           }
          ],
          "scatter": [
           {
            "marker": {
             "colorbar": {
              "outlinewidth": 0,
              "ticks": ""
             }
            },
            "type": "scatter"
           }
          ],
          "scatter3d": [
           {
            "line": {
             "colorbar": {
              "outlinewidth": 0,
              "ticks": ""
             }
            },
            "marker": {
             "colorbar": {
              "outlinewidth": 0,
              "ticks": ""
             }
            },
            "type": "scatter3d"
           }
          ],
          "scattercarpet": [
           {
            "marker": {
             "colorbar": {
              "outlinewidth": 0,
              "ticks": ""
             }
            },
            "type": "scattercarpet"
           }
          ],
          "scattergeo": [
           {
            "marker": {
             "colorbar": {
              "outlinewidth": 0,
              "ticks": ""
             }
            },
            "type": "scattergeo"
           }
          ],
          "scattergl": [
           {
            "marker": {
             "colorbar": {
              "outlinewidth": 0,
              "ticks": ""
             }
            },
            "type": "scattergl"
           }
          ],
          "scattermapbox": [
           {
            "marker": {
             "colorbar": {
              "outlinewidth": 0,
              "ticks": ""
             }
            },
            "type": "scattermapbox"
           }
          ],
          "scatterpolar": [
           {
            "marker": {
             "colorbar": {
              "outlinewidth": 0,
              "ticks": ""
             }
            },
            "type": "scatterpolar"
           }
          ],
          "scatterpolargl": [
           {
            "marker": {
             "colorbar": {
              "outlinewidth": 0,
              "ticks": ""
             }
            },
            "type": "scatterpolargl"
           }
          ],
          "scatterternary": [
           {
            "marker": {
             "colorbar": {
              "outlinewidth": 0,
              "ticks": ""
             }
            },
            "type": "scatterternary"
           }
          ],
          "surface": [
           {
            "colorbar": {
             "outlinewidth": 0,
             "ticks": ""
            },
            "colorscale": [
             [
              0,
              "#0d0887"
             ],
             [
              0.1111111111111111,
              "#46039f"
             ],
             [
              0.2222222222222222,
              "#7201a8"
             ],
             [
              0.3333333333333333,
              "#9c179e"
             ],
             [
              0.4444444444444444,
              "#bd3786"
             ],
             [
              0.5555555555555556,
              "#d8576b"
             ],
             [
              0.6666666666666666,
              "#ed7953"
             ],
             [
              0.7777777777777778,
              "#fb9f3a"
             ],
             [
              0.8888888888888888,
              "#fdca26"
             ],
             [
              1,
              "#f0f921"
             ]
            ],
            "type": "surface"
           }
          ],
          "table": [
           {
            "cells": {
             "fill": {
              "color": "#EBF0F8"
             },
             "line": {
              "color": "white"
             }
            },
            "header": {
             "fill": {
              "color": "#C8D4E3"
             },
             "line": {
              "color": "white"
             }
            },
            "type": "table"
           }
          ]
         },
         "layout": {
          "annotationdefaults": {
           "arrowcolor": "#2a3f5f",
           "arrowhead": 0,
           "arrowwidth": 1
          },
          "autotypenumbers": "strict",
          "coloraxis": {
           "colorbar": {
            "outlinewidth": 0,
            "ticks": ""
           }
          },
          "colorscale": {
           "diverging": [
            [
             0,
             "#8e0152"
            ],
            [
             0.1,
             "#c51b7d"
            ],
            [
             0.2,
             "#de77ae"
            ],
            [
             0.3,
             "#f1b6da"
            ],
            [
             0.4,
             "#fde0ef"
            ],
            [
             0.5,
             "#f7f7f7"
            ],
            [
             0.6,
             "#e6f5d0"
            ],
            [
             0.7,
             "#b8e186"
            ],
            [
             0.8,
             "#7fbc41"
            ],
            [
             0.9,
             "#4d9221"
            ],
            [
             1,
             "#276419"
            ]
           ],
           "sequential": [
            [
             0,
             "#0d0887"
            ],
            [
             0.1111111111111111,
             "#46039f"
            ],
            [
             0.2222222222222222,
             "#7201a8"
            ],
            [
             0.3333333333333333,
             "#9c179e"
            ],
            [
             0.4444444444444444,
             "#bd3786"
            ],
            [
             0.5555555555555556,
             "#d8576b"
            ],
            [
             0.6666666666666666,
             "#ed7953"
            ],
            [
             0.7777777777777778,
             "#fb9f3a"
            ],
            [
             0.8888888888888888,
             "#fdca26"
            ],
            [
             1,
             "#f0f921"
            ]
           ],
           "sequentialminus": [
            [
             0,
             "#0d0887"
            ],
            [
             0.1111111111111111,
             "#46039f"
            ],
            [
             0.2222222222222222,
             "#7201a8"
            ],
            [
             0.3333333333333333,
             "#9c179e"
            ],
            [
             0.4444444444444444,
             "#bd3786"
            ],
            [
             0.5555555555555556,
             "#d8576b"
            ],
            [
             0.6666666666666666,
             "#ed7953"
            ],
            [
             0.7777777777777778,
             "#fb9f3a"
            ],
            [
             0.8888888888888888,
             "#fdca26"
            ],
            [
             1,
             "#f0f921"
            ]
           ]
          },
          "colorway": [
           "#636efa",
           "#EF553B",
           "#00cc96",
           "#ab63fa",
           "#FFA15A",
           "#19d3f3",
           "#FF6692",
           "#B6E880",
           "#FF97FF",
           "#FECB52"
          ],
          "font": {
           "color": "#2a3f5f"
          },
          "geo": {
           "bgcolor": "white",
           "lakecolor": "white",
           "landcolor": "#E5ECF6",
           "showlakes": true,
           "showland": true,
           "subunitcolor": "white"
          },
          "hoverlabel": {
           "align": "left"
          },
          "hovermode": "closest",
          "mapbox": {
           "style": "light"
          },
          "paper_bgcolor": "white",
          "plot_bgcolor": "#E5ECF6",
          "polar": {
           "angularaxis": {
            "gridcolor": "white",
            "linecolor": "white",
            "ticks": ""
           },
           "bgcolor": "#E5ECF6",
           "radialaxis": {
            "gridcolor": "white",
            "linecolor": "white",
            "ticks": ""
           }
          },
          "scene": {
           "xaxis": {
            "backgroundcolor": "#E5ECF6",
            "gridcolor": "white",
            "gridwidth": 2,
            "linecolor": "white",
            "showbackground": true,
            "ticks": "",
            "zerolinecolor": "white"
           },
           "yaxis": {
            "backgroundcolor": "#E5ECF6",
            "gridcolor": "white",
            "gridwidth": 2,
            "linecolor": "white",
            "showbackground": true,
            "ticks": "",
            "zerolinecolor": "white"
           },
           "zaxis": {
            "backgroundcolor": "#E5ECF6",
            "gridcolor": "white",
            "gridwidth": 2,
            "linecolor": "white",
            "showbackground": true,
            "ticks": "",
            "zerolinecolor": "white"
           }
          },
          "shapedefaults": {
           "line": {
            "color": "#2a3f5f"
           }
          },
          "ternary": {
           "aaxis": {
            "gridcolor": "white",
            "linecolor": "white",
            "ticks": ""
           },
           "baxis": {
            "gridcolor": "white",
            "linecolor": "white",
            "ticks": ""
           },
           "bgcolor": "#E5ECF6",
           "caxis": {
            "gridcolor": "white",
            "linecolor": "white",
            "ticks": ""
           }
          },
          "title": {
           "x": 0.05
          },
          "xaxis": {
           "automargin": true,
           "gridcolor": "white",
           "linecolor": "white",
           "ticks": "",
           "title": {
            "standoff": 15
           },
           "zerolinecolor": "white",
           "zerolinewidth": 2
          },
          "yaxis": {
           "automargin": true,
           "gridcolor": "white",
           "linecolor": "white",
           "ticks": "",
           "title": {
            "standoff": 15
           },
           "zerolinecolor": "white",
           "zerolinewidth": 2
          }
         }
        }
       }
      }
     },
     "metadata": {},
     "output_type": "display_data"
    }
   ],
   "source": [
    "pca_db = NARD\n",
    "pca_db_features = NARD_features\n",
    "\n",
    "pca = PCA(n_components=2)\n",
    "X_embedded = pca.fit_transform(pca_db[pca_db_features])\n",
    "\n",
    "fig = go.Figure()\n",
    "fig.add_trace(go.Scatter(x=X_embedded[pca_db['model']==\"Mazda\",0], y=X_embedded[pca_db['model']==\"Mazda\",1],mode='markers', name=\"MAZDA\"))\n",
    "fig.add_trace(go.Scatter(x=X_embedded[pca_db['model']==\"Fiat\",0], y=X_embedded[pca_db['model']==\"Fiat\",1],mode='markers', name=\"FIAT\"))\n",
    "fig.add_trace(go.Scatter(x=X_embedded[pca_db['model']==\"Hyundai\",0], y=X_embedded[pca_db['model']==\"Hyundai\",1],mode='markers', name=\"HYNDAI\"))\n",
    "fig.add_trace(go.Scatter(x=X_embedded[pca_db['model']==\"Honda\",0], y=X_embedded[pca_db['model']==\"Honda\",1],mode='markers', name=\"HUNDA\"))\n",
    "fig.add_trace(go.Scatter(x=X_embedded[pca_db['model']==\"Ford\",0], y=X_embedded[pca_db['model']==\"Ford\",1],mode='markers', name=\"FORD\"))\n",
    "fig.add_trace(go.Scatter(x=X_embedded[pca_db['model']==\"Daewoo\",0], y=X_embedded[pca_db['model']==\"Daewoo\",1],mode='markers', name=\"Daewoo\"))\n",
    "fig.add_trace(go.Scatter(x=X_embedded[pca_db['model']==\"Subaru\",0], y=X_embedded[pca_db['model']==\"Subaru\",1],mode='markers', name=\"Subaru\"))\n",
    "fig.add_trace(go.Scatter(x=X_embedded[pca_db['model']==\"Renault\",0], y=X_embedded[pca_db['model']==\"Renault\",1],mode='markers', name=\"Renault\"))\n",
    "fig.add_trace(go.Scatter(x=X_embedded[pca_db['model']==\"Peugeot\",0], y=X_embedded[pca_db['model']==\"Peugeot\",1],mode='markers', name=\"Peugeot\"))\n",
    "fig.add_trace(go.Scatter(x=X_embedded[pca_db['model']==\"Mitsubishi\",0], y=X_embedded[pca_db['model']==\"Mitsubishi\",1],mode='markers', name=\"Mitsubishi\"))"
   ]
  },
  {
   "cell_type": "code",
   "execution_count": 429,
   "metadata": {},
   "outputs": [
    {
     "data": {
      "application/vnd.plotly.v1+json": {
       "config": {
        "plotlyServerURL": "https://plot.ly"
       },
       "data": [
        {
         "mode": "markers",
         "name": "MAZDA",
         "type": "scatter",
         "x": [
          -0.8010821944670254,
          -2.0657142878079604,
          -2.039976433609891,
          -1.2342525713682067,
          -1.9716587358844313,
          -0.8847150293439497,
          -0.9389080097972862,
          -2.0478267614965264
         ],
         "y": [
          -0.9828436282878927,
          -1.5939915245520746,
          -0.5318300044455082,
          -0.09740532653459845,
          -1.034732323959042,
          -1.3185936723215779,
          -1.0760200609429336,
          -1.3767402104158186
         ]
        },
        {
         "mode": "markers",
         "name": "FIAT",
         "type": "scatter",
         "x": [
          2.939438360330486,
          0.8033825826554111,
          1.0665960140093538,
          1.3598039337747014,
          3.2216971993148364,
          1.201723815560524,
          3.386703310373892,
          0.14378500256362634
         ],
         "y": [
          -1.2258831642415557,
          -0.8245798834775787,
          -0.17877462490564944,
          -0.9583449714844399,
          -0.3694641232899711,
          0.1652315978766085,
          0.23457971805776484,
          -0.6563881748827348
         ]
        },
        {
         "mode": "markers",
         "name": "HYNDAI",
         "type": "scatter",
         "x": [
          -0.7527285041280319,
          0.7100368502408649,
          -0.23078027809943608,
          0.7518205057997044,
          -0.022997336635911147,
          0.01969136292405438,
          -1.1496144834869448,
          -0.740355749406138,
          -0.20682156607902372,
          -1.0284604215455442,
          -0.5137177306799603,
          0.39923204202188106,
          0.19069610975183465,
          -0.5539212574985379,
          -0.21621126201931054,
          0.5842643395368556,
          -0.3650323678960523,
          0.7755401127927208,
          -0.6763782048081808,
          -0.08242640157867635,
          -2.524599486195568,
          -1.9004310970783787,
          -1.1704038721508219,
          -1.732022642579612,
          3.299125912906408,
          0.47347475604576966,
          -0.8483098437823081,
          -2.261195053889313,
          -0.0817057298679806,
          -1.136037240572733
         ],
         "y": [
          0.6859718319239718,
          0.7079677216315265,
          -0.04798110716379618,
          -0.8271896284412024,
          2.620936785226057,
          2.2598966937082374,
          2.0550410163782953,
          1.852179389430598,
          0.26392584735250135,
          1.6385335402308787,
          -0.2179326183331791,
          -0.8540292410417205,
          -0.47881034980864995,
          -0.28565948537895564,
          -0.43117800897021374,
          -1.1983272951968376,
          0.37895444945607576,
          0.32620612840795604,
          0.8391953154229889,
          0.8517527414077054,
          -1.4110286518343582,
          -1.5312652815789112,
          2.231366597666722,
          3.0239644600673774,
          -0.7600607763229645,
          -1.2187033339824078,
          -0.8403663607895683,
          -1.1213951757797325,
          0.8972517807796195,
          2.367918154077965
         ]
        },
        {
         "mode": "markers",
         "name": "HUNDA",
         "type": "scatter",
         "x": [
          2.756141107423358,
          0.9883020833731136,
          3.2958121289143425,
          1.0269907347586293,
          0.096696312725541,
          2.184687493775129,
          3.295210867464018,
          3.3163773970085604
         ],
         "y": [
          -0.1679638998526321,
          -0.6301913134994785,
          -0.8460426699290468,
          0.07420452062196188,
          1.819304558583866,
          0.4906718084522811,
          -0.3791232372874319,
          -0.34528639036577996
         ]
        },
        {
         "mode": "markers",
         "name": "FORD",
         "type": "scatter",
         "x": [
          0.22162705706588356,
          2.4501079206915275,
          2.052283420183467,
          -0.5385620444322687,
          -0.4731087429503501,
          0.7878293802523788,
          2.961519155609949,
          -0.4516858562171256
         ],
         "y": [
          -0.4394543605118336,
          -1.1728305816964943,
          1.45595952722453,
          1.0109032322287501,
          0.7887626886055182,
          -0.8798238395434597,
          0.3966009411379437,
          0.07199959062023568
         ]
        },
        {
         "mode": "markers",
         "name": "Daewoo",
         "type": "scatter",
         "x": [
          -0.3493347328456071,
          -1.148079058947288,
          0.38816361450691933,
          -1.1738370969404601,
          -2.2709791101941694,
          -2.523152220848088
         ],
         "y": [
          -1.0085099316721773,
          -0.703199128608438,
          -2.225678698965025,
          -2.4059789936550957,
          0.12612907393728687,
          0.4644823457899012
         ]
        },
        {
         "mode": "markers",
         "name": "Subaru",
         "type": "scatter",
         "x": [
          -0.8723727520777256,
          -0.06004047551053546,
          -2.5479754455135355,
          -2.502763713906159,
          -1.0043729413952036,
          0.0017759305350868299,
          -0.9045125140645259,
          -1.9907917208993249
         ],
         "y": [
          0.22035940853518066,
          0.778029337283066,
          -1.0404774078877557,
          0.48497675963773734,
          -1.7362494216870525,
          -1.5428781279861956,
          -0.7476856170490589,
          -1.267530135152441
         ]
        },
        {
         "mode": "markers",
         "name": "Renault",
         "type": "scatter",
         "x": [
          -0.057986563874203374,
          -1.0484650557578212,
          -0.4226435792259475,
          0.5867917192207263,
          -1.1274663900571396,
          -2.018223028355008,
          0.01969136292405438,
          1.3719191697546491,
          -1.7750536709773042,
          -0.9367017650911139
         ],
         "y": [
          3.0012152635095566,
          3.1805405053482767,
          1.2744824646314166,
          0.2673091550148884,
          -2.3502404978957245,
          -0.9176785568669703,
          2.2598966937082374,
          -1.1964387986620593,
          -0.6636335036231588,
          -0.880714633712902
         ]
        },
        {
         "mode": "markers",
         "name": "Peugeot",
         "type": "scatter",
         "x": [
          -0.07779625927454532,
          -1.783033319726627,
          0.9672976500941997,
          2.8245507032108668,
          2.547257211135633,
          4.012695292172717
         ],
         "y": [
          1.876307264065717,
          3.6098288416615367,
          0.9218886071191266,
          1.388673867775714,
          1.0942210082602126,
          -0.5778086269825379
         ]
        },
        {
         "mode": "markers",
         "name": "Mitsubishi",
         "type": "scatter",
         "x": [
          0.9572901773140016,
          0.29102595046293184,
          -1.698957034381417,
          -0.7928764039633664
         ],
         "y": [
          -0.5126729171683648,
          0.29020912091232415,
          -1.4199723699974287,
          -1.2402476851456992
         ]
        }
       ],
       "layout": {
        "template": {
         "data": {
          "bar": [
           {
            "error_x": {
             "color": "#2a3f5f"
            },
            "error_y": {
             "color": "#2a3f5f"
            },
            "marker": {
             "line": {
              "color": "#E5ECF6",
              "width": 0.5
             },
             "pattern": {
              "fillmode": "overlay",
              "size": 10,
              "solidity": 0.2
             }
            },
            "type": "bar"
           }
          ],
          "barpolar": [
           {
            "marker": {
             "line": {
              "color": "#E5ECF6",
              "width": 0.5
             },
             "pattern": {
              "fillmode": "overlay",
              "size": 10,
              "solidity": 0.2
             }
            },
            "type": "barpolar"
           }
          ],
          "carpet": [
           {
            "aaxis": {
             "endlinecolor": "#2a3f5f",
             "gridcolor": "white",
             "linecolor": "white",
             "minorgridcolor": "white",
             "startlinecolor": "#2a3f5f"
            },
            "baxis": {
             "endlinecolor": "#2a3f5f",
             "gridcolor": "white",
             "linecolor": "white",
             "minorgridcolor": "white",
             "startlinecolor": "#2a3f5f"
            },
            "type": "carpet"
           }
          ],
          "choropleth": [
           {
            "colorbar": {
             "outlinewidth": 0,
             "ticks": ""
            },
            "type": "choropleth"
           }
          ],
          "contour": [
           {
            "colorbar": {
             "outlinewidth": 0,
             "ticks": ""
            },
            "colorscale": [
             [
              0,
              "#0d0887"
             ],
             [
              0.1111111111111111,
              "#46039f"
             ],
             [
              0.2222222222222222,
              "#7201a8"
             ],
             [
              0.3333333333333333,
              "#9c179e"
             ],
             [
              0.4444444444444444,
              "#bd3786"
             ],
             [
              0.5555555555555556,
              "#d8576b"
             ],
             [
              0.6666666666666666,
              "#ed7953"
             ],
             [
              0.7777777777777778,
              "#fb9f3a"
             ],
             [
              0.8888888888888888,
              "#fdca26"
             ],
             [
              1,
              "#f0f921"
             ]
            ],
            "type": "contour"
           }
          ],
          "contourcarpet": [
           {
            "colorbar": {
             "outlinewidth": 0,
             "ticks": ""
            },
            "type": "contourcarpet"
           }
          ],
          "heatmap": [
           {
            "colorbar": {
             "outlinewidth": 0,
             "ticks": ""
            },
            "colorscale": [
             [
              0,
              "#0d0887"
             ],
             [
              0.1111111111111111,
              "#46039f"
             ],
             [
              0.2222222222222222,
              "#7201a8"
             ],
             [
              0.3333333333333333,
              "#9c179e"
             ],
             [
              0.4444444444444444,
              "#bd3786"
             ],
             [
              0.5555555555555556,
              "#d8576b"
             ],
             [
              0.6666666666666666,
              "#ed7953"
             ],
             [
              0.7777777777777778,
              "#fb9f3a"
             ],
             [
              0.8888888888888888,
              "#fdca26"
             ],
             [
              1,
              "#f0f921"
             ]
            ],
            "type": "heatmap"
           }
          ],
          "heatmapgl": [
           {
            "colorbar": {
             "outlinewidth": 0,
             "ticks": ""
            },
            "colorscale": [
             [
              0,
              "#0d0887"
             ],
             [
              0.1111111111111111,
              "#46039f"
             ],
             [
              0.2222222222222222,
              "#7201a8"
             ],
             [
              0.3333333333333333,
              "#9c179e"
             ],
             [
              0.4444444444444444,
              "#bd3786"
             ],
             [
              0.5555555555555556,
              "#d8576b"
             ],
             [
              0.6666666666666666,
              "#ed7953"
             ],
             [
              0.7777777777777778,
              "#fb9f3a"
             ],
             [
              0.8888888888888888,
              "#fdca26"
             ],
             [
              1,
              "#f0f921"
             ]
            ],
            "type": "heatmapgl"
           }
          ],
          "histogram": [
           {
            "marker": {
             "pattern": {
              "fillmode": "overlay",
              "size": 10,
              "solidity": 0.2
             }
            },
            "type": "histogram"
           }
          ],
          "histogram2d": [
           {
            "colorbar": {
             "outlinewidth": 0,
             "ticks": ""
            },
            "colorscale": [
             [
              0,
              "#0d0887"
             ],
             [
              0.1111111111111111,
              "#46039f"
             ],
             [
              0.2222222222222222,
              "#7201a8"
             ],
             [
              0.3333333333333333,
              "#9c179e"
             ],
             [
              0.4444444444444444,
              "#bd3786"
             ],
             [
              0.5555555555555556,
              "#d8576b"
             ],
             [
              0.6666666666666666,
              "#ed7953"
             ],
             [
              0.7777777777777778,
              "#fb9f3a"
             ],
             [
              0.8888888888888888,
              "#fdca26"
             ],
             [
              1,
              "#f0f921"
             ]
            ],
            "type": "histogram2d"
           }
          ],
          "histogram2dcontour": [
           {
            "colorbar": {
             "outlinewidth": 0,
             "ticks": ""
            },
            "colorscale": [
             [
              0,
              "#0d0887"
             ],
             [
              0.1111111111111111,
              "#46039f"
             ],
             [
              0.2222222222222222,
              "#7201a8"
             ],
             [
              0.3333333333333333,
              "#9c179e"
             ],
             [
              0.4444444444444444,
              "#bd3786"
             ],
             [
              0.5555555555555556,
              "#d8576b"
             ],
             [
              0.6666666666666666,
              "#ed7953"
             ],
             [
              0.7777777777777778,
              "#fb9f3a"
             ],
             [
              0.8888888888888888,
              "#fdca26"
             ],
             [
              1,
              "#f0f921"
             ]
            ],
            "type": "histogram2dcontour"
           }
          ],
          "mesh3d": [
           {
            "colorbar": {
             "outlinewidth": 0,
             "ticks": ""
            },
            "type": "mesh3d"
           }
          ],
          "parcoords": [
           {
            "line": {
             "colorbar": {
              "outlinewidth": 0,
              "ticks": ""
             }
            },
            "type": "parcoords"
           }
          ],
          "pie": [
           {
            "automargin": true,
            "type": "pie"
           }
          ],
          "scatter": [
           {
            "marker": {
             "colorbar": {
              "outlinewidth": 0,
              "ticks": ""
             }
            },
            "type": "scatter"
           }
          ],
          "scatter3d": [
           {
            "line": {
             "colorbar": {
              "outlinewidth": 0,
              "ticks": ""
             }
            },
            "marker": {
             "colorbar": {
              "outlinewidth": 0,
              "ticks": ""
             }
            },
            "type": "scatter3d"
           }
          ],
          "scattercarpet": [
           {
            "marker": {
             "colorbar": {
              "outlinewidth": 0,
              "ticks": ""
             }
            },
            "type": "scattercarpet"
           }
          ],
          "scattergeo": [
           {
            "marker": {
             "colorbar": {
              "outlinewidth": 0,
              "ticks": ""
             }
            },
            "type": "scattergeo"
           }
          ],
          "scattergl": [
           {
            "marker": {
             "colorbar": {
              "outlinewidth": 0,
              "ticks": ""
             }
            },
            "type": "scattergl"
           }
          ],
          "scattermapbox": [
           {
            "marker": {
             "colorbar": {
              "outlinewidth": 0,
              "ticks": ""
             }
            },
            "type": "scattermapbox"
           }
          ],
          "scatterpolar": [
           {
            "marker": {
             "colorbar": {
              "outlinewidth": 0,
              "ticks": ""
             }
            },
            "type": "scatterpolar"
           }
          ],
          "scatterpolargl": [
           {
            "marker": {
             "colorbar": {
              "outlinewidth": 0,
              "ticks": ""
             }
            },
            "type": "scatterpolargl"
           }
          ],
          "scatterternary": [
           {
            "marker": {
             "colorbar": {
              "outlinewidth": 0,
              "ticks": ""
             }
            },
            "type": "scatterternary"
           }
          ],
          "surface": [
           {
            "colorbar": {
             "outlinewidth": 0,
             "ticks": ""
            },
            "colorscale": [
             [
              0,
              "#0d0887"
             ],
             [
              0.1111111111111111,
              "#46039f"
             ],
             [
              0.2222222222222222,
              "#7201a8"
             ],
             [
              0.3333333333333333,
              "#9c179e"
             ],
             [
              0.4444444444444444,
              "#bd3786"
             ],
             [
              0.5555555555555556,
              "#d8576b"
             ],
             [
              0.6666666666666666,
              "#ed7953"
             ],
             [
              0.7777777777777778,
              "#fb9f3a"
             ],
             [
              0.8888888888888888,
              "#fdca26"
             ],
             [
              1,
              "#f0f921"
             ]
            ],
            "type": "surface"
           }
          ],
          "table": [
           {
            "cells": {
             "fill": {
              "color": "#EBF0F8"
             },
             "line": {
              "color": "white"
             }
            },
            "header": {
             "fill": {
              "color": "#C8D4E3"
             },
             "line": {
              "color": "white"
             }
            },
            "type": "table"
           }
          ]
         },
         "layout": {
          "annotationdefaults": {
           "arrowcolor": "#2a3f5f",
           "arrowhead": 0,
           "arrowwidth": 1
          },
          "autotypenumbers": "strict",
          "coloraxis": {
           "colorbar": {
            "outlinewidth": 0,
            "ticks": ""
           }
          },
          "colorscale": {
           "diverging": [
            [
             0,
             "#8e0152"
            ],
            [
             0.1,
             "#c51b7d"
            ],
            [
             0.2,
             "#de77ae"
            ],
            [
             0.3,
             "#f1b6da"
            ],
            [
             0.4,
             "#fde0ef"
            ],
            [
             0.5,
             "#f7f7f7"
            ],
            [
             0.6,
             "#e6f5d0"
            ],
            [
             0.7,
             "#b8e186"
            ],
            [
             0.8,
             "#7fbc41"
            ],
            [
             0.9,
             "#4d9221"
            ],
            [
             1,
             "#276419"
            ]
           ],
           "sequential": [
            [
             0,
             "#0d0887"
            ],
            [
             0.1111111111111111,
             "#46039f"
            ],
            [
             0.2222222222222222,
             "#7201a8"
            ],
            [
             0.3333333333333333,
             "#9c179e"
            ],
            [
             0.4444444444444444,
             "#bd3786"
            ],
            [
             0.5555555555555556,
             "#d8576b"
            ],
            [
             0.6666666666666666,
             "#ed7953"
            ],
            [
             0.7777777777777778,
             "#fb9f3a"
            ],
            [
             0.8888888888888888,
             "#fdca26"
            ],
            [
             1,
             "#f0f921"
            ]
           ],
           "sequentialminus": [
            [
             0,
             "#0d0887"
            ],
            [
             0.1111111111111111,
             "#46039f"
            ],
            [
             0.2222222222222222,
             "#7201a8"
            ],
            [
             0.3333333333333333,
             "#9c179e"
            ],
            [
             0.4444444444444444,
             "#bd3786"
            ],
            [
             0.5555555555555556,
             "#d8576b"
            ],
            [
             0.6666666666666666,
             "#ed7953"
            ],
            [
             0.7777777777777778,
             "#fb9f3a"
            ],
            [
             0.8888888888888888,
             "#fdca26"
            ],
            [
             1,
             "#f0f921"
            ]
           ]
          },
          "colorway": [
           "#636efa",
           "#EF553B",
           "#00cc96",
           "#ab63fa",
           "#FFA15A",
           "#19d3f3",
           "#FF6692",
           "#B6E880",
           "#FF97FF",
           "#FECB52"
          ],
          "font": {
           "color": "#2a3f5f"
          },
          "geo": {
           "bgcolor": "white",
           "lakecolor": "white",
           "landcolor": "#E5ECF6",
           "showlakes": true,
           "showland": true,
           "subunitcolor": "white"
          },
          "hoverlabel": {
           "align": "left"
          },
          "hovermode": "closest",
          "mapbox": {
           "style": "light"
          },
          "paper_bgcolor": "white",
          "plot_bgcolor": "#E5ECF6",
          "polar": {
           "angularaxis": {
            "gridcolor": "white",
            "linecolor": "white",
            "ticks": ""
           },
           "bgcolor": "#E5ECF6",
           "radialaxis": {
            "gridcolor": "white",
            "linecolor": "white",
            "ticks": ""
           }
          },
          "scene": {
           "xaxis": {
            "backgroundcolor": "#E5ECF6",
            "gridcolor": "white",
            "gridwidth": 2,
            "linecolor": "white",
            "showbackground": true,
            "ticks": "",
            "zerolinecolor": "white"
           },
           "yaxis": {
            "backgroundcolor": "#E5ECF6",
            "gridcolor": "white",
            "gridwidth": 2,
            "linecolor": "white",
            "showbackground": true,
            "ticks": "",
            "zerolinecolor": "white"
           },
           "zaxis": {
            "backgroundcolor": "#E5ECF6",
            "gridcolor": "white",
            "gridwidth": 2,
            "linecolor": "white",
            "showbackground": true,
            "ticks": "",
            "zerolinecolor": "white"
           }
          },
          "shapedefaults": {
           "line": {
            "color": "#2a3f5f"
           }
          },
          "ternary": {
           "aaxis": {
            "gridcolor": "white",
            "linecolor": "white",
            "ticks": ""
           },
           "baxis": {
            "gridcolor": "white",
            "linecolor": "white",
            "ticks": ""
           },
           "bgcolor": "#E5ECF6",
           "caxis": {
            "gridcolor": "white",
            "linecolor": "white",
            "ticks": ""
           }
          },
          "title": {
           "x": 0.05
          },
          "xaxis": {
           "automargin": true,
           "gridcolor": "white",
           "linecolor": "white",
           "ticks": "",
           "title": {
            "standoff": 15
           },
           "zerolinecolor": "white",
           "zerolinewidth": 2
          },
          "yaxis": {
           "automargin": true,
           "gridcolor": "white",
           "linecolor": "white",
           "ticks": "",
           "title": {
            "standoff": 15
           },
           "zerolinecolor": "white",
           "zerolinewidth": 2
          }
         }
        }
       }
      }
     },
     "metadata": {},
     "output_type": "display_data"
    }
   ],
   "source": [
    "pca_db = EDS\n",
    "pca_db_features = EDS_features\n",
    "\n",
    "pca = PCA(n_components=2)\n",
    "X_embedded = pca.fit_transform(pca_db[pca_db_features])\n",
    "\n",
    "fig = go.Figure()\n",
    "fig.add_trace(go.Scatter(x=X_embedded[pca_db['model']==\"Mazda\",0], y=X_embedded[pca_db['model']==\"Mazda\",1],mode='markers', name=\"MAZDA\"))\n",
    "fig.add_trace(go.Scatter(x=X_embedded[pca_db['model']==\"Fiat\",0], y=X_embedded[pca_db['model']==\"Fiat\",1],mode='markers', name=\"FIAT\"))\n",
    "fig.add_trace(go.Scatter(x=X_embedded[pca_db['model']==\"Hyundai\",0], y=X_embedded[pca_db['model']==\"Hyundai\",1],mode='markers', name=\"HYNDAI\"))\n",
    "fig.add_trace(go.Scatter(x=X_embedded[pca_db['model']==\"Honda\",0], y=X_embedded[pca_db['model']==\"Honda\",1],mode='markers', name=\"HUNDA\"))\n",
    "fig.add_trace(go.Scatter(x=X_embedded[pca_db['model']==\"Ford\",0], y=X_embedded[pca_db['model']==\"Ford\",1],mode='markers', name=\"FORD\"))\n",
    "fig.add_trace(go.Scatter(x=X_embedded[pca_db['model']==\"Daewoo\",0], y=X_embedded[pca_db['model']==\"Daewoo\",1],mode='markers', name=\"Daewoo\"))\n",
    "fig.add_trace(go.Scatter(x=X_embedded[pca_db['model']==\"Subaru\",0], y=X_embedded[pca_db['model']==\"Subaru\",1],mode='markers', name=\"Subaru\"))\n",
    "fig.add_trace(go.Scatter(x=X_embedded[pca_db['model']==\"Renault\",0], y=X_embedded[pca_db['model']==\"Renault\",1],mode='markers', name=\"Renault\"))\n",
    "fig.add_trace(go.Scatter(x=X_embedded[pca_db['model']==\"Peugeot\",0], y=X_embedded[pca_db['model']==\"Peugeot\",1],mode='markers', name=\"Peugeot\"))\n",
    "fig.add_trace(go.Scatter(x=X_embedded[pca_db['model']==\"Mitsubishi\",0], y=X_embedded[pca_db['model']==\"Mitsubishi\",1],mode='markers', name=\"Mitsubishi\"))"
   ]
  },
  {
   "cell_type": "markdown",
   "metadata": {},
   "source": [
    "# Model"
   ]
  },
  {
   "cell_type": "code",
   "execution_count": 486,
   "metadata": {},
   "outputs": [],
   "source": [
    "iteration = 20\n",
    "test_ratio = 0.33\n",
    "num_tree = 500\n",
    "class_rf = RandomForestClassifier(n_estimators=num_tree)"
   ]
  },
  {
   "cell_type": "code",
   "execution_count": 431,
   "metadata": {},
   "outputs": [],
   "source": [
    "def make_a_model(X,y):\n",
    "    results = []\n",
    "    for i in range(iteration):\n",
    "        X_train, X_test, y_train, y_test = train_test_split(X, y, test_size=test_ratio)\n",
    "        class_rf.fit(X_train, y_train)\n",
    "        y_pred = class_rf.predict(X_test)\n",
    "        results.append(pd.DataFrame(classification_report(y_test, y_pred, output_dict=True, zero_division=0)))\n",
    "        \n",
    "    precision = np.array([])\n",
    "    recall = np.array([])\n",
    "    f1score = np.array([])\n",
    "\n",
    "    for i in range(iteration):\n",
    "        precision = np.append(precision, results[i][\"weighted avg\"][\"precision\"])\n",
    "        recall = np.append(recall, results[i][\"weighted avg\"][\"recall\"])\n",
    "        f1score = np.append(f1score, results[i][\"weighted avg\"][\"f1-score\"])\n",
    "\n",
    "    print(\"Recall mean:\", recall.mean(), \"Recall STD:\", recall.std())\n",
    "    print(\"Precision mean:\", precision.mean(), \"Precision STD:\", precision.std())\n",
    "    print(\"F1- Score mean:\", f1score.mean(), \"F1- Score STD:\", f1score.std())"
   ]
  },
  {
   "cell_type": "markdown",
   "metadata": {},
   "source": [
    "## PIXE"
   ]
  },
  {
   "cell_type": "markdown",
   "metadata": {},
   "source": [
    "### Model BINA"
   ]
  },
  {
   "cell_type": "code",
   "execution_count": 432,
   "metadata": {},
   "outputs": [
    {
     "name": "stdout",
     "output_type": "stream",
     "text": [
      "Recall mean: 0.8532258064516128 Recall STD: 0.06409134350421138\n",
      "Precision mean: 0.869676488386166 Precision STD: 0.0581783136207324\n",
      "F1- Score mean: 0.8390815093879045 F1- Score STD: 0.06486303514989744\n"
     ]
    }
   ],
   "source": [
    "make_a_model(BINA[BINA_features],BINA[\"model\"])"
   ]
  },
  {
   "cell_type": "markdown",
   "metadata": {},
   "source": [
    "### Model IRB"
   ]
  },
  {
   "cell_type": "code",
   "execution_count": 433,
   "metadata": {},
   "outputs": [
    {
     "name": "stdout",
     "output_type": "stream",
     "text": [
      "Recall mean: 0.815625 Recall STD: 0.06695089151758923\n",
      "Precision mean: 0.8225443176615052 Precision STD: 0.08859537921686132\n",
      "F1- Score mean: 0.7975389444308272 F1- Score STD: 0.07252632108932823\n"
     ]
    }
   ],
   "source": [
    "make_a_model(IRB[IRB_features],IRB[\"model\"])"
   ]
  },
  {
   "cell_type": "markdown",
   "metadata": {},
   "source": [
    "### Model HU"
   ]
  },
  {
   "cell_type": "code",
   "execution_count": 434,
   "metadata": {},
   "outputs": [
    {
     "name": "stdout",
     "output_type": "stream",
     "text": [
      "Recall mean: 0.715625 Recall STD: 0.06547602137424051\n",
      "Precision mean: 0.7263386093073592 Precision STD: 0.09626679767551449\n",
      "F1- Score mean: 0.6910683376843864 F1- Score STD: 0.07191229602350928\n"
     ]
    }
   ],
   "source": [
    "make_a_model(HU[HU_features],HU[\"model\"])"
   ]
  },
  {
   "cell_type": "markdown",
   "metadata": {},
   "source": [
    "## Model DEB"
   ]
  },
  {
   "cell_type": "code",
   "execution_count": 435,
   "metadata": {},
   "outputs": [
    {
     "name": "stdout",
     "output_type": "stream",
     "text": [
      "Recall mean: 0.796875 Recall STD: 0.11158481919598204\n",
      "Precision mean: 0.7634040178571428 Precision STD: 0.1395686365780337\n",
      "F1- Score mean: 0.7643027907549966 F1- Score STD: 0.12934574725128173\n"
     ]
    }
   ],
   "source": [
    "make_a_model(DEB[DEB_features],DEB[\"model\"])"
   ]
  },
  {
   "cell_type": "markdown",
   "metadata": {},
   "source": [
    "## Model BARC"
   ]
  },
  {
   "cell_type": "code",
   "execution_count": 436,
   "metadata": {},
   "outputs": [
    {
     "name": "stdout",
     "output_type": "stream",
     "text": [
      "Recall mean: 0.896875 Recall STD: 0.10874820400815823\n",
      "Precision mean: 0.8466046626984127 Precision STD: 0.15197591607300837\n",
      "F1- Score mean: 0.8657811719530469 F1- Score STD: 0.13707338685704648\n"
     ]
    }
   ],
   "source": [
    "make_a_model(BARC[BARC_features],BARC[\"model\"])"
   ]
  },
  {
   "cell_type": "markdown",
   "metadata": {},
   "source": [
    "## Model EDS"
   ]
  },
  {
   "cell_type": "code",
   "execution_count": 437,
   "metadata": {},
   "outputs": [
    {
     "name": "stdout",
     "output_type": "stream",
     "text": [
      "Recall mean: 0.5390625 Recall STD: 0.09974332292815394\n",
      "Precision mean: 0.49674908922266453 Precision STD: 0.12561651668089263\n",
      "F1- Score mean: 0.4930868915888803 F1- Score STD: 0.11214012185009495\n"
     ]
    }
   ],
   "source": [
    "make_a_model(EDS[EDS_features],EDS[\"model\"])"
   ]
  },
  {
   "cell_type": "markdown",
   "metadata": {},
   "source": [
    "## Model NARD"
   ]
  },
  {
   "cell_type": "code",
   "execution_count": 438,
   "metadata": {},
   "outputs": [
    {
     "name": "stdout",
     "output_type": "stream",
     "text": [
      "Recall mean: 0.6214285714285712 Recall STD: 0.15169114701139502\n",
      "Precision mean: 0.5499999999999999 Precision STD: 0.15827514147257385\n",
      "F1- Score mean: 0.5742857142857142 F1- Score STD: 0.15466590429087262\n"
     ]
    }
   ],
   "source": [
    "make_a_model(NARD[NARD_features],NARD[\"model\"])"
   ]
  },
  {
   "cell_type": "markdown",
   "metadata": {},
   "source": [
    "# Create a unified DB"
   ]
  },
  {
   "cell_type": "code",
   "execution_count": 439,
   "metadata": {},
   "outputs": [],
   "source": [
    "iteration = 20\n",
    "test_ratio = 0.33\n",
    "num_tree = 300"
   ]
  },
  {
   "cell_type": "markdown",
   "metadata": {},
   "source": [
    "## All Vs ALL"
   ]
  },
  {
   "cell_type": "code",
   "execution_count": 440,
   "metadata": {},
   "outputs": [
    {
     "name": "stdout",
     "output_type": "stream",
     "text": [
      "['SiK', 'AlK', 'CaKA', 'FeK']\n",
      "(496, 64)\n",
      "Recall mean: 0.6704268292682928 Recall STD: 0.03542231615600592\n",
      "Precision mean: 0.6763540340648999 Precision STD: 0.03296738759619958\n",
      "F1- Score mean: 0.6634224566359713 F1- Score STD: 0.03255528660234485\n"
     ]
    }
   ],
   "source": [
    "WWDB = pd.concat([\n",
    "    BINA,\n",
    "    IRB,\n",
    "    HU,\n",
    "    EDS, \n",
    "    BARC, \n",
    "    DEB,\n",
    "    NARD\n",
    "    ], axis=0)\n",
    "\n",
    "WWfeatures = list(\n",
    "    set(BINA_features) & \n",
    "    set(IRB_features)& \n",
    "    set(HU_features)& \n",
    "    set(EDS_features)& \n",
    "    set(BARC_features)& \n",
    "    set(DEB_features)&\n",
    "    set(NARD_features)\n",
    "    )\n",
    "\n",
    "print(WWfeatures)\n",
    "print(WWDB.shape)\n",
    "    \n",
    "make_a_model(WWDB[WWfeatures],WWDB[\"model\"])"
   ]
  },
  {
   "cell_type": "markdown",
   "metadata": {},
   "source": [
    "Repeat without laboratories with individual low performances"
   ]
  },
  {
   "cell_type": "code",
   "execution_count": 467,
   "metadata": {},
   "outputs": [
    {
     "name": "stdout",
     "output_type": "stream",
     "text": [
      "['MgK', 'AlK', 'NaK', 'FeK', 'SiK', 'CaKA']\n",
      "(284, 64)\n",
      "Recall mean: 0.7965957446808511 Recall STD: 0.03833567873891135\n",
      "Precision mean: 0.820410238839891 Precision STD: 0.03749004570828338\n",
      "F1- Score mean: 0.7901243393634269 F1- Score STD: 0.03957407913111199\n"
     ]
    }
   ],
   "source": [
    "WWDB = pd.concat([\n",
    "    BINA,\n",
    "    IRB,\n",
    "    #HU,\n",
    "    #EDS, \n",
    "    BARC, \n",
    "    DEB,\n",
    "    #NARD\n",
    "    ], axis=0)\n",
    "\n",
    "WWfeatures = list(\n",
    "    set(BINA_features) & \n",
    "    set(IRB_features)& \n",
    "    #set(HU_features)& \n",
    "    #set(EDS_features)& \n",
    "    set(BARC_features)& \n",
    "    set(DEB_features)#&\n",
    "    #set(NARD_features)\n",
    "    )\n",
    "\n",
    "print(WWfeatures)\n",
    "print(WWDB.shape)\n",
    "    \n",
    "make_a_model(WWDB[WWfeatures],WWDB[\"model\"])"
   ]
  },
  {
   "cell_type": "markdown",
   "metadata": {},
   "source": [
    "## Individual models on subgroup feature list"
   ]
  },
  {
   "cell_type": "markdown",
   "metadata": {},
   "source": [
    "### PGAA"
   ]
  },
  {
   "cell_type": "markdown",
   "metadata": {},
   "source": [
    "#### BARC"
   ]
  },
  {
   "cell_type": "code",
   "execution_count": 468,
   "metadata": {},
   "outputs": [
    {
     "name": "stdout",
     "output_type": "stream",
     "text": [
      "['MgK', 'AlK', 'NaK', 'FeK', 'SiK', 'CaKA']\n",
      "Recall mean: 0.4465625 Recall STD: 0.11064397789193049\n",
      "Precision mean: 0.37815926001082245 Precision STD: 0.1463453341749608\n",
      "F1- Score mean: 0.3844834150224775 F1- Score STD: 0.1204012866867921\n"
     ]
    }
   ],
   "source": [
    "WWDB = pd.concat([\n",
    "    #BINA,\n",
    "    #IRB,\n",
    "    #HU,\n",
    "    #EDS, \n",
    "    BARC, \n",
    "    #DEB\n",
    "    ], axis=0)\n",
    "\n",
    "WWfeatures = list(\n",
    "    set(BINA_features) & \n",
    "    set(IRB_features)& \n",
    "    #set(HU_features)& \n",
    "    #set(EDS_features)& \n",
    "    set(BARC_features)& \n",
    "    set(DEB_features)\n",
    "    )\n",
    "\n",
    "print(WWfeatures)\n",
    "    \n",
    "make_a_model(WWDB[WWfeatures],WWDB[\"model\"])"
   ]
  },
  {
   "cell_type": "markdown",
   "metadata": {},
   "source": [
    "#### NARD"
   ]
  },
  {
   "cell_type": "code",
   "execution_count": 476,
   "metadata": {},
   "outputs": [
    {
     "name": "stdout",
     "output_type": "stream",
     "text": [
      "['MgK', 'AlK', 'NaK', 'FeK', 'SiK', 'CaKA']\n",
      "Recall mean: 0.4707142857142857 Recall STD: 0.16951160335938478\n",
      "Precision mean: 0.3928571428571429 Precision STD: 0.1852232519453875\n",
      "F1- Score mean: 0.4122976190476191 F1- Score STD: 0.1766053873376044\n"
     ]
    }
   ],
   "source": [
    "WWDB = pd.concat([\n",
    "    #BINA,\n",
    "    #IRB,\n",
    "    #HU,\n",
    "    #EDS, \n",
    "    #BARC, \n",
    "    #DEB,\n",
    "    NARD\n",
    "    ], axis=0)\n",
    "\n",
    "WWfeatures = list(\n",
    "    set(BINA_features) & \n",
    "    set(IRB_features)& \n",
    "    #set(HU_features)& \n",
    "    #set(EDS_features)#& \n",
    "    set(BARC_features)& \n",
    "    set(DEB_features)&\n",
    "    set(NARD_features)\n",
    "    )\n",
    "\n",
    "print(WWfeatures)\n",
    "    \n",
    "make_a_model(WWDB[WWfeatures],WWDB[\"model\"])"
   ]
  },
  {
   "cell_type": "markdown",
   "metadata": {},
   "source": [
    "#### BARC + NARD"
   ]
  },
  {
   "cell_type": "code",
   "execution_count": 443,
   "metadata": {},
   "outputs": [
    {
     "name": "stdout",
     "output_type": "stream",
     "text": [
      "['MgK', 'Sm', 'AlK', 'NaK', 'FeK', 'SiK', 'CaKA']\n",
      "Recall mean: 0.6782608695652173 Recall STD: 0.0905768115478246\n",
      "Precision mean: 0.6549609448522491 Precision STD: 0.1300312559787689\n",
      "F1- Score mean: 0.6317734730458515 F1- Score STD: 0.11364409205308494\n"
     ]
    }
   ],
   "source": [
    "WWDB = pd.concat([\n",
    "    #BINA,\n",
    "    #IRB,\n",
    "    #HU,\n",
    "    #EDS, \n",
    "    BARC, \n",
    "    #DEB,\n",
    "    NARD\n",
    "    ], axis=0)\n",
    "\n",
    "WWfeatures = list(\n",
    "    #set(BINA_features) & \n",
    "    #set(IRB_features)& \n",
    "    #set(HU_features)& \n",
    "    #set(EDS_features)& \n",
    "    set(BARC_features)& \n",
    "    #set(DEB_features)&\n",
    "    set(NARD_features)\n",
    "    )\n",
    "\n",
    "print(WWfeatures)\n",
    "    \n",
    "make_a_model(WWDB[WWfeatures],WWDB[\"model\"])"
   ]
  },
  {
   "cell_type": "markdown",
   "metadata": {},
   "source": [
    "### PIXE"
   ]
  },
  {
   "cell_type": "code",
   "execution_count": 444,
   "metadata": {},
   "outputs": [
    {
     "name": "stdout",
     "output_type": "stream",
     "text": [
      "['MgK', 'AlK', 'NaK', 'FeK', 'SiK', 'CaKA']\n",
      "Recall mean: 0.8341269841269842 Recall STD: 0.042436204397761426\n",
      "Precision mean: 0.8661228664334777 Precision STD: 0.03065710250393438\n",
      "F1- Score mean: 0.8252620102429564 F1- Score STD: 0.045334620698462495\n"
     ]
    }
   ],
   "source": [
    "WWDB = pd.concat([\n",
    "    BINA,\n",
    "    IRB,\n",
    "    #HU,\n",
    "    #EDS, \n",
    "    #BARC, \n",
    "    #DEB\n",
    "    ], axis=0)\n",
    "\n",
    "WWfeatures = list(\n",
    "    set(BINA_features) & \n",
    "    set(IRB_features)& \n",
    "    #set(HU_features)& \n",
    "    set(EDS_features)& \n",
    "    set(BARC_features)& \n",
    "    set(DEB_features)\n",
    "    )\n",
    "\n",
    "print(WWfeatures)\n",
    "    \n",
    "make_a_model(WWDB[WWfeatures],WWDB[\"model\"])"
   ]
  },
  {
   "cell_type": "markdown",
   "metadata": {},
   "source": [
    "### EDS"
   ]
  },
  {
   "cell_type": "code",
   "execution_count": 445,
   "metadata": {},
   "outputs": [
    {
     "name": "stdout",
     "output_type": "stream",
     "text": [
      "['MgK', 'AlK', 'NaK', 'FeK', 'SiK', 'CaKA']\n",
      "Recall mean: 0.4453125 Recall STD: 0.05918967789023691\n",
      "Precision mean: 0.40842744791757946 Precision STD: 0.08053449835477493\n",
      "F1- Score mean: 0.4020279963191228 F1- Score STD: 0.06324389011709783\n"
     ]
    }
   ],
   "source": [
    "WWDB = pd.concat([\n",
    "    #BINA,\n",
    "    #IRB,\n",
    "    #HU,\n",
    "    EDS, \n",
    "    #BARC, \n",
    "    #DEB\n",
    "    ], axis=0)\n",
    "\n",
    "WWfeatures = list(\n",
    "    set(BINA_features) & \n",
    "    set(IRB_features)& \n",
    "    #set(HU_features)& \n",
    "    set(EDS_features)& \n",
    "    set(BARC_features)& \n",
    "    set(DEB_features)\n",
    "    )\n",
    "\n",
    "print(WWfeatures)\n",
    "    \n",
    "make_a_model(WWDB[WWfeatures],WWDB[\"model\"])"
   ]
  },
  {
   "cell_type": "markdown",
   "metadata": {},
   "source": [
    "ICP"
   ]
  },
  {
   "cell_type": "code",
   "execution_count": 446,
   "metadata": {},
   "outputs": [
    {
     "name": "stdout",
     "output_type": "stream",
     "text": [
      "['MgK', 'AlK', 'NaK', 'FeK', 'SiK', 'CaKA']\n",
      "Recall mean: 0.715625 Recall STD: 0.1272838240901019\n",
      "Precision mean: 0.7051314484126985 Precision STD: 0.16498665967899842\n",
      "F1- Score mean: 0.6824079811120252 F1- Score STD: 0.1491574545521411\n"
     ]
    }
   ],
   "source": [
    "WWDB = pd.concat([\n",
    "    #BINA,\n",
    "    #IRB,\n",
    "    #HU,\n",
    "    #EDS, \n",
    "    #BARC, \n",
    "    DEB\n",
    "    ], axis=0)\n",
    "\n",
    "WWfeatures = list(\n",
    "    set(BINA_features) & \n",
    "    set(IRB_features)& \n",
    "    #set(HU_features)& \n",
    "    set(EDS_features)& \n",
    "    set(BARC_features)& \n",
    "    set(DEB_features)\n",
    "    )\n",
    "\n",
    "print(WWfeatures)\n",
    "    \n",
    "make_a_model(WWDB[WWfeatures],WWDB[\"model\"])"
   ]
  },
  {
   "cell_type": "markdown",
   "metadata": {},
   "source": [
    "## DB Combinations"
   ]
  },
  {
   "cell_type": "markdown",
   "metadata": {},
   "source": [
    "### PIXE with PIXE"
   ]
  },
  {
   "cell_type": "code",
   "execution_count": 447,
   "metadata": {},
   "outputs": [
    {
     "name": "stdout",
     "output_type": "stream",
     "text": [
      "['K KA', 'CrK', 'MgK', 'AlK', 'NaK', 'MnK', 'SiK', 'FeK', 'CaKA', 'S K']\n",
      "Recall mean: 0.8936507936507937 Recall STD: 0.04711372088779628\n",
      "Precision mean: 0.9192896771128194 Precision STD: 0.03087463100591033\n",
      "F1- Score mean: 0.8881122357018553 F1- Score STD: 0.051319444768233524\n"
     ]
    }
   ],
   "source": [
    "WWDB = pd.concat([\n",
    "    BINA,\n",
    "    IRB,\n",
    "    #HU,\n",
    "    #EDS, \n",
    "    #BARC, \n",
    "    #DEB\n",
    "    ], axis=0)\n",
    "\n",
    "WWfeatures = list(\n",
    "    set(BINA_features) & \n",
    "    set(IRB_features)#& \n",
    "    #set(HU_features)#& \n",
    "    #set(EDS_features)#& \n",
    "    #set(BARC_features)#& \n",
    "    #set(DEB_features)\n",
    "    )\n",
    "\n",
    "print(WWfeatures)\n",
    "    \n",
    "make_a_model(WWDB[WWfeatures],WWDB[\"model\"])"
   ]
  },
  {
   "cell_type": "markdown",
   "metadata": {},
   "source": [
    "### PIXE with EDS"
   ]
  },
  {
   "cell_type": "code",
   "execution_count": 448,
   "metadata": {},
   "outputs": [
    {
     "name": "stdout",
     "output_type": "stream",
     "text": [
      "['K KA', 'MgK', 'AlK', 'NaK', 'FeK', 'SiK', 'CaKA']\n",
      "Recall mean: 0.800531914893617 Recall STD: 0.03574135622836668\n",
      "Precision mean: 0.8203762813684206 Precision STD: 0.033477690325361874\n",
      "F1- Score mean: 0.7941341429784652 F1- Score STD: 0.03832375667044371\n"
     ]
    }
   ],
   "source": [
    "WWDB = pd.concat([\n",
    "    BINA,\n",
    "    IRB,\n",
    "    #HU,\n",
    "    EDS, \n",
    "    #BARC, \n",
    "    #DEB\n",
    "    ], axis=0)\n",
    "\n",
    "WWfeatures = list(\n",
    "    set(BINA_features) & \n",
    "    set(IRB_features)& \n",
    "    #set(HU_features)& \n",
    "    set(EDS_features)#& \n",
    "    #set(BARC_features)#& \n",
    "    #set(DEB_features)\n",
    "    )\n",
    "\n",
    "print(WWfeatures)\n",
    "    \n",
    "make_a_model(WWDB[WWfeatures],WWDB[\"model\"])"
   ]
  },
  {
   "cell_type": "markdown",
   "metadata": {},
   "source": [
    "### PIXE with PGAA"
   ]
  },
  {
   "cell_type": "markdown",
   "metadata": {},
   "source": [
    "#### PIXE with PGAA (BARC)"
   ]
  },
  {
   "cell_type": "code",
   "execution_count": 449,
   "metadata": {},
   "outputs": [
    {
     "name": "stdout",
     "output_type": "stream",
     "text": [
      "['CrK', 'MgK', 'AlK', 'NaK', 'FeK', 'SiK', 'CaKA']\n",
      "Recall mean: 0.7858974358974359 Recall STD: 0.0413647841151325\n",
      "Precision mean: 0.8142747454002427 Precision STD: 0.04791617793118439\n",
      "F1- Score mean: 0.7734341047718329 F1- Score STD: 0.04731123800388816\n"
     ]
    }
   ],
   "source": [
    "WWDB = pd.concat([\n",
    "    BINA,\n",
    "    IRB,\n",
    "    #HU,\n",
    "    #EDS, \n",
    "    BARC, \n",
    "    #DEB,\n",
    "    #NARD\n",
    "    ], axis=0)\n",
    "\n",
    "WWfeatures = list(\n",
    "    set(BINA_features) & \n",
    "    set(IRB_features)& \n",
    "    #set(HU_features)& \n",
    "    #set(EDS_features)#& \n",
    "    set(BARC_features)#& \n",
    "    #set(DEB_features)\n",
    "    #set(NARD_features)\n",
    "    )\n",
    "\n",
    "print(WWfeatures)\n",
    "    \n",
    "make_a_model(WWDB[WWfeatures],WWDB[\"model\"])"
   ]
  },
  {
   "cell_type": "markdown",
   "metadata": {},
   "source": [
    "### PIXE with ICP"
   ]
  },
  {
   "cell_type": "code",
   "execution_count": 450,
   "metadata": {},
   "outputs": [
    {
     "name": "stdout",
     "output_type": "stream",
     "text": [
      "['K KA', 'MgK', 'AlK', 'NaK', 'MnK', 'SiK', 'FeK', 'CaKA']\n",
      "Recall mean: 0.9096153846153847 Recall STD: 0.032553753655370825\n",
      "Precision mean: 0.9206332574419545 Precision STD: 0.03161156560382684\n",
      "F1- Score mean: 0.9042962416996492 F1- Score STD: 0.03559445587677968\n"
     ]
    }
   ],
   "source": [
    "WWDB = pd.concat([\n",
    "    BINA,\n",
    "    IRB,\n",
    "    #HU,\n",
    "    #EDS, \n",
    "    #BARC, \n",
    "    DEB,\n",
    "    ], axis=0)\n",
    "\n",
    "WWfeatures = list(\n",
    "    set(BINA_features) & \n",
    "    set(IRB_features)& \n",
    "    #set(HU_features)& \n",
    "    #set(EDS_features)#& \n",
    "    #set(BARC_features)& \n",
    "    set(DEB_features)\n",
    "    )\n",
    "    \n",
    "print(WWfeatures)\n",
    "\n",
    "make_a_model(WWDB[WWfeatures],WWDB[\"model\"])"
   ]
  },
  {
   "cell_type": "markdown",
   "metadata": {},
   "source": [
    "### PGAA with EDS"
   ]
  },
  {
   "cell_type": "code",
   "execution_count": 451,
   "metadata": {},
   "outputs": [
    {
     "name": "stdout",
     "output_type": "stream",
     "text": [
      "['MgK', 'AlK', 'NaK', 'FeK', 'SiK', 'CaKA']\n",
      "Recall mean: 0.475 Recall STD: 0.05128555677121322\n",
      "Precision mean: 0.4599405002353071 Precision STD: 0.0806715536830451\n",
      "F1- Score mean: 0.4328562272781927 F1- Score STD: 0.06198224730714611\n"
     ]
    }
   ],
   "source": [
    "WWDB = pd.concat([\n",
    "    #BINA,\n",
    "    #IRB,\n",
    "    #HU,\n",
    "    EDS, \n",
    "    BARC, \n",
    "    #DEB,\n",
    "    #NARD\n",
    "    \n",
    "    ], axis=0)\n",
    "\n",
    "WWfeatures = list(\n",
    "    #set(BINA_features) & \n",
    "    #set(IRB_features)& \n",
    "    #set(HU_features)& \n",
    "    set(EDS_features)& \n",
    "    set(BARC_features)#& \n",
    "    #set(DEB_features)\n",
    "    #set(NARD_features)\n",
    "    )\n",
    "    \n",
    "print(WWfeatures)\n",
    "\n",
    "make_a_model(WWDB[WWfeatures],WWDB[\"model\"])"
   ]
  },
  {
   "cell_type": "markdown",
   "metadata": {},
   "source": [
    "### PGAA with ICP"
   ]
  },
  {
   "cell_type": "code",
   "execution_count": 452,
   "metadata": {},
   "outputs": [
    {
     "name": "stdout",
     "output_type": "stream",
     "text": [
      "['La', 'Zr', 'Hf', 'MgK', 'Sm', 'Yb', 'Th', 'Ce', 'AlK', 'NaK', 'FeK', 'SiK', 'Eu', 'ZnKA', 'Cs', 'CaKA', 'Ba', 'Rb']\n",
      "Recall mean: 0.878125 Recall STD: 0.06242182611074431\n",
      "Precision mean: 0.8798652952949828 Precision STD: 0.071314164176788\n",
      "F1- Score mean: 0.8591085729638719 F1- Score STD: 0.07301427834773717\n"
     ]
    }
   ],
   "source": [
    "WWDB = pd.concat([\n",
    "    #BINA,\n",
    "    #IRB,\n",
    "    #HU,\n",
    "    #EDS, \n",
    "    BARC, \n",
    "    DEB\n",
    "    ], axis=0)\n",
    "\n",
    "WWfeatures = list(\n",
    "    #set(BINA_features) & \n",
    "    #set(IRB_features)& \n",
    "    #set(HU_features)& \n",
    "    #set(EDS_features)& \n",
    "    set(BARC_features)& \n",
    "    set(DEB_features)\n",
    "    )\n",
    "    \n",
    "print(WWfeatures)\n",
    "\n",
    "make_a_model(WWDB[WWfeatures],WWDB[\"model\"])"
   ]
  },
  {
   "cell_type": "markdown",
   "metadata": {},
   "source": [
    "### ICP with EDS"
   ]
  },
  {
   "cell_type": "code",
   "execution_count": 453,
   "metadata": {},
   "outputs": [
    {
     "name": "stdout",
     "output_type": "stream",
     "text": [
      "['La', 'Zr', 'Hf', 'MgK', 'Sm', 'Yb', 'Th', 'Ce', 'AlK', 'NaK', 'FeK', 'SiK', 'Eu', 'ZnKA', 'Cs', 'CaKA', 'Ba', 'Rb']\n",
      "Recall mean: 0.8734375 Recall STD: 0.04787985451888925\n",
      "Precision mean: 0.8526749769327895 Precision STD: 0.07277908323500434\n",
      "F1- Score mean: 0.8486593808401967 F1- Score STD: 0.059978072280265596\n"
     ]
    }
   ],
   "source": [
    "WWDB = pd.concat([\n",
    "    #BINA,\n",
    "    #IRB,\n",
    "    #HU,\n",
    "    #EDS, \n",
    "    BARC, \n",
    "    DEB\n",
    "    ], axis=0)\n",
    "\n",
    "WWfeatures = list(\n",
    "    #set(BINA_features) & \n",
    "    #set(IRB_features)& \n",
    "    #set(HU_features)& \n",
    "    #set(EDS_features)& \n",
    "    set(BARC_features)& \n",
    "    set(DEB_features)\n",
    "    )\n",
    "    \n",
    "print(WWfeatures)\n",
    "\n",
    "make_a_model(WWDB[WWfeatures],WWDB[\"model\"])"
   ]
  },
  {
   "cell_type": "markdown",
   "metadata": {},
   "source": [
    "### PIXE, EDS and ICP"
   ]
  },
  {
   "cell_type": "code",
   "execution_count": 454,
   "metadata": {},
   "outputs": [
    {
     "name": "stdout",
     "output_type": "stream",
     "text": [
      "['K KA', 'MgK', 'AlK', 'NaK', 'FeK', 'SiK', 'CaKA']\n",
      "Recall mean: 0.8395454545454546 Recall STD: 0.03476901346775114\n",
      "Precision mean: 0.8555780463427445 Precision STD: 0.03244546529786464\n",
      "F1- Score mean: 0.8347315593333056 F1- Score STD: 0.037223680655200986\n"
     ]
    }
   ],
   "source": [
    "WWDB = pd.concat([\n",
    "    BINA,\n",
    "    IRB,\n",
    "    #HU,\n",
    "    EDS, \n",
    "    #BARC, \n",
    "    DEB\n",
    "    ], axis=0)\n",
    "\n",
    "WWfeatures = list(\n",
    "    set(BINA_features) & \n",
    "    set(IRB_features)& \n",
    "    #set(HU_features)& \n",
    "    set(EDS_features)& \n",
    "    #set(BARC_features)& \n",
    "    set(DEB_features)\n",
    "    )\n",
    "    \n",
    "print(WWfeatures)\n",
    "\n",
    "make_a_model(WWDB[WWfeatures],WWDB[\"model\"])"
   ]
  },
  {
   "cell_type": "markdown",
   "metadata": {},
   "source": [
    "# Exploration"
   ]
  },
  {
   "cell_type": "markdown",
   "metadata": {},
   "source": [
    "## Feature importance"
   ]
  },
  {
   "cell_type": "markdown",
   "metadata": {},
   "source": [
    "Finding our BARC most important features"
   ]
  },
  {
   "cell_type": "markdown",
   "metadata": {},
   "source": [
    "BARC"
   ]
  },
  {
   "cell_type": "code",
   "execution_count": 455,
   "metadata": {},
   "outputs": [
    {
     "data": {
      "text/html": [
       "<div>\n",
       "<style scoped>\n",
       "    .dataframe tbody tr th:only-of-type {\n",
       "        vertical-align: middle;\n",
       "    }\n",
       "\n",
       "    .dataframe tbody tr th {\n",
       "        vertical-align: top;\n",
       "    }\n",
       "\n",
       "    .dataframe thead th {\n",
       "        text-align: right;\n",
       "    }\n",
       "</style>\n",
       "<table border=\"1\" class=\"dataframe\">\n",
       "  <thead>\n",
       "    <tr style=\"text-align: right;\">\n",
       "      <th></th>\n",
       "      <th>0</th>\n",
       "    </tr>\n",
       "  </thead>\n",
       "  <tbody>\n",
       "    <tr>\n",
       "      <th>Sc</th>\n",
       "      <td>0.078338</td>\n",
       "    </tr>\n",
       "    <tr>\n",
       "      <th>ZnKA</th>\n",
       "      <td>0.070762</td>\n",
       "    </tr>\n",
       "    <tr>\n",
       "      <th>Ce</th>\n",
       "      <td>0.069732</td>\n",
       "    </tr>\n",
       "    <tr>\n",
       "      <th>Eu</th>\n",
       "      <td>0.064318</td>\n",
       "    </tr>\n",
       "    <tr>\n",
       "      <th>CoKA</th>\n",
       "      <td>0.063435</td>\n",
       "    </tr>\n",
       "    <tr>\n",
       "      <th>Sm</th>\n",
       "      <td>0.061708</td>\n",
       "    </tr>\n",
       "    <tr>\n",
       "      <th>Rb</th>\n",
       "      <td>0.055854</td>\n",
       "    </tr>\n",
       "    <tr>\n",
       "      <th>Hf</th>\n",
       "      <td>0.054132</td>\n",
       "    </tr>\n",
       "    <tr>\n",
       "      <th>Zr</th>\n",
       "      <td>0.051299</td>\n",
       "    </tr>\n",
       "    <tr>\n",
       "      <th>Cs</th>\n",
       "      <td>0.050013</td>\n",
       "    </tr>\n",
       "  </tbody>\n",
       "</table>\n",
       "</div>"
      ],
      "text/plain": [
       "             0\n",
       "Sc    0.078338\n",
       "ZnKA  0.070762\n",
       "Ce    0.069732\n",
       "Eu    0.064318\n",
       "CoKA  0.063435\n",
       "Sm    0.061708\n",
       "Rb    0.055854\n",
       "Hf    0.054132\n",
       "Zr    0.051299\n",
       "Cs    0.050013"
      ]
     },
     "execution_count": 455,
     "metadata": {},
     "output_type": "execute_result"
    }
   ],
   "source": [
    "features = BARC_features\n",
    "Tested_db = BARC\n",
    "X_train, X_test, y_train, y_test = train_test_split(Tested_db[features], Tested_db[\"model\"], test_size=test_ratio)\n",
    "class_rf.fit(X_train, y_train)\n",
    "db_importance = pd.DataFrame(class_rf.feature_importances_, index =features )\n",
    "db_importance.sort_values(0,ascending=False).head(10)"
   ]
  },
  {
   "cell_type": "markdown",
   "metadata": {},
   "source": [
    "NARD"
   ]
  },
  {
   "cell_type": "code",
   "execution_count": 456,
   "metadata": {},
   "outputs": [
    {
     "data": {
      "text/html": [
       "<div>\n",
       "<style scoped>\n",
       "    .dataframe tbody tr th:only-of-type {\n",
       "        vertical-align: middle;\n",
       "    }\n",
       "\n",
       "    .dataframe tbody tr th {\n",
       "        vertical-align: top;\n",
       "    }\n",
       "\n",
       "    .dataframe thead th {\n",
       "        text-align: right;\n",
       "    }\n",
       "</style>\n",
       "<table border=\"1\" class=\"dataframe\">\n",
       "  <thead>\n",
       "    <tr style=\"text-align: right;\">\n",
       "      <th></th>\n",
       "      <th>0</th>\n",
       "    </tr>\n",
       "  </thead>\n",
       "  <tbody>\n",
       "    <tr>\n",
       "      <th>ClK</th>\n",
       "      <td>0.103926</td>\n",
       "    </tr>\n",
       "    <tr>\n",
       "      <th>TiK</th>\n",
       "      <td>0.088571</td>\n",
       "    </tr>\n",
       "    <tr>\n",
       "      <th>SiK</th>\n",
       "      <td>0.088176</td>\n",
       "    </tr>\n",
       "    <tr>\n",
       "      <th>MnK</th>\n",
       "      <td>0.083864</td>\n",
       "    </tr>\n",
       "    <tr>\n",
       "      <th>AlK</th>\n",
       "      <td>0.081207</td>\n",
       "    </tr>\n",
       "    <tr>\n",
       "      <th>B</th>\n",
       "      <td>0.077404</td>\n",
       "    </tr>\n",
       "    <tr>\n",
       "      <th>Sm</th>\n",
       "      <td>0.073098</td>\n",
       "    </tr>\n",
       "    <tr>\n",
       "      <th>K KA</th>\n",
       "      <td>0.071787</td>\n",
       "    </tr>\n",
       "    <tr>\n",
       "      <th>FeK</th>\n",
       "      <td>0.068424</td>\n",
       "    </tr>\n",
       "    <tr>\n",
       "      <th>MgK</th>\n",
       "      <td>0.064471</td>\n",
       "    </tr>\n",
       "  </tbody>\n",
       "</table>\n",
       "</div>"
      ],
      "text/plain": [
       "             0\n",
       "ClK   0.103926\n",
       "TiK   0.088571\n",
       "SiK   0.088176\n",
       "MnK   0.083864\n",
       "AlK   0.081207\n",
       "B     0.077404\n",
       "Sm    0.073098\n",
       "K KA  0.071787\n",
       "FeK   0.068424\n",
       "MgK   0.064471"
      ]
     },
     "execution_count": 456,
     "metadata": {},
     "output_type": "execute_result"
    }
   ],
   "source": [
    "features = NARD_features\n",
    "Tested_db = NARD\n",
    "X_train, X_test, y_train, y_test = train_test_split(Tested_db[features], Tested_db[\"model\"], test_size=test_ratio)\n",
    "class_rf.fit(X_train, y_train)\n",
    "db_importance = pd.DataFrame(class_rf.feature_importances_, index =features )\n",
    "db_importance.sort_values(0,ascending=False).head(10)"
   ]
  },
  {
   "cell_type": "markdown",
   "metadata": {},
   "source": [
    "BINA"
   ]
  },
  {
   "cell_type": "code",
   "execution_count": 457,
   "metadata": {},
   "outputs": [
    {
     "data": {
      "text/html": [
       "<div>\n",
       "<style scoped>\n",
       "    .dataframe tbody tr th:only-of-type {\n",
       "        vertical-align: middle;\n",
       "    }\n",
       "\n",
       "    .dataframe tbody tr th {\n",
       "        vertical-align: top;\n",
       "    }\n",
       "\n",
       "    .dataframe thead th {\n",
       "        text-align: right;\n",
       "    }\n",
       "</style>\n",
       "<table border=\"1\" class=\"dataframe\">\n",
       "  <thead>\n",
       "    <tr style=\"text-align: right;\">\n",
       "      <th></th>\n",
       "      <th>0</th>\n",
       "    </tr>\n",
       "  </thead>\n",
       "  <tbody>\n",
       "    <tr>\n",
       "      <th>AlK</th>\n",
       "      <td>0.104397</td>\n",
       "    </tr>\n",
       "    <tr>\n",
       "      <th>FeK</th>\n",
       "      <td>0.099599</td>\n",
       "    </tr>\n",
       "    <tr>\n",
       "      <th>K KA</th>\n",
       "      <td>0.099347</td>\n",
       "    </tr>\n",
       "    <tr>\n",
       "      <th>TiK</th>\n",
       "      <td>0.074233</td>\n",
       "    </tr>\n",
       "    <tr>\n",
       "      <th>MnK</th>\n",
       "      <td>0.073843</td>\n",
       "    </tr>\n",
       "    <tr>\n",
       "      <th>CaKB</th>\n",
       "      <td>0.072762</td>\n",
       "    </tr>\n",
       "    <tr>\n",
       "      <th>CaKA</th>\n",
       "      <td>0.071282</td>\n",
       "    </tr>\n",
       "    <tr>\n",
       "      <th>K KB</th>\n",
       "      <td>0.060092</td>\n",
       "    </tr>\n",
       "    <tr>\n",
       "      <th>SiK</th>\n",
       "      <td>0.054259</td>\n",
       "    </tr>\n",
       "    <tr>\n",
       "      <th>ZnKA</th>\n",
       "      <td>0.050558</td>\n",
       "    </tr>\n",
       "    <tr>\n",
       "      <th>ClK</th>\n",
       "      <td>0.048220</td>\n",
       "    </tr>\n",
       "  </tbody>\n",
       "</table>\n",
       "</div>"
      ],
      "text/plain": [
       "             0\n",
       "AlK   0.104397\n",
       "FeK   0.099599\n",
       "K KA  0.099347\n",
       "TiK   0.074233\n",
       "MnK   0.073843\n",
       "CaKB  0.072762\n",
       "CaKA  0.071282\n",
       "K KB  0.060092\n",
       "SiK   0.054259\n",
       "ZnKA  0.050558\n",
       "ClK   0.048220"
      ]
     },
     "execution_count": 457,
     "metadata": {},
     "output_type": "execute_result"
    }
   ],
   "source": [
    "features = BINA_features\n",
    "Tested_db = BINA\n",
    "X_train, X_test, y_train, y_test = train_test_split(Tested_db[features], Tested_db[\"model\"], test_size=test_ratio)\n",
    "class_rf.fit(X_train, y_train)\n",
    "db_importance = pd.DataFrame(class_rf.feature_importances_, index =features )\n",
    "db_importance.sort_values(0,ascending=False).head(11)"
   ]
  },
  {
   "cell_type": "markdown",
   "metadata": {},
   "source": [
    "IRB"
   ]
  },
  {
   "cell_type": "code",
   "execution_count": 458,
   "metadata": {},
   "outputs": [
    {
     "data": {
      "text/html": [
       "<div>\n",
       "<style scoped>\n",
       "    .dataframe tbody tr th:only-of-type {\n",
       "        vertical-align: middle;\n",
       "    }\n",
       "\n",
       "    .dataframe tbody tr th {\n",
       "        vertical-align: top;\n",
       "    }\n",
       "\n",
       "    .dataframe thead th {\n",
       "        text-align: right;\n",
       "    }\n",
       "</style>\n",
       "<table border=\"1\" class=\"dataframe\">\n",
       "  <thead>\n",
       "    <tr style=\"text-align: right;\">\n",
       "      <th></th>\n",
       "      <th>0</th>\n",
       "    </tr>\n",
       "  </thead>\n",
       "  <tbody>\n",
       "    <tr>\n",
       "      <th>CaKA</th>\n",
       "      <td>0.202504</td>\n",
       "    </tr>\n",
       "    <tr>\n",
       "      <th>FeK</th>\n",
       "      <td>0.173640</td>\n",
       "    </tr>\n",
       "    <tr>\n",
       "      <th>MnK</th>\n",
       "      <td>0.131388</td>\n",
       "    </tr>\n",
       "    <tr>\n",
       "      <th>K KA</th>\n",
       "      <td>0.129175</td>\n",
       "    </tr>\n",
       "    <tr>\n",
       "      <th>AlK</th>\n",
       "      <td>0.124826</td>\n",
       "    </tr>\n",
       "    <tr>\n",
       "      <th>MgK</th>\n",
       "      <td>0.108951</td>\n",
       "    </tr>\n",
       "    <tr>\n",
       "      <th>SiK</th>\n",
       "      <td>0.036916</td>\n",
       "    </tr>\n",
       "    <tr>\n",
       "      <th>NaK</th>\n",
       "      <td>0.036712</td>\n",
       "    </tr>\n",
       "    <tr>\n",
       "      <th>S K</th>\n",
       "      <td>0.028560</td>\n",
       "    </tr>\n",
       "    <tr>\n",
       "      <th>CrK</th>\n",
       "      <td>0.027328</td>\n",
       "    </tr>\n",
       "  </tbody>\n",
       "</table>\n",
       "</div>"
      ],
      "text/plain": [
       "             0\n",
       "CaKA  0.202504\n",
       "FeK   0.173640\n",
       "MnK   0.131388\n",
       "K KA  0.129175\n",
       "AlK   0.124826\n",
       "MgK   0.108951\n",
       "SiK   0.036916\n",
       "NaK   0.036712\n",
       "S K   0.028560\n",
       "CrK   0.027328"
      ]
     },
     "execution_count": 458,
     "metadata": {},
     "output_type": "execute_result"
    }
   ],
   "source": [
    "features = IRB_features\n",
    "Tested_db = IRB\n",
    "X_train, X_test, y_train, y_test = train_test_split(Tested_db[features], Tested_db[\"model\"], test_size=test_ratio)\n",
    "class_rf.fit(X_train, y_train)\n",
    "db_importance = pd.DataFrame(class_rf.feature_importances_, index =features )\n",
    "db_importance.sort_values(0,ascending=False).head(10)"
   ]
  },
  {
   "cell_type": "markdown",
   "metadata": {},
   "source": [
    "HU"
   ]
  },
  {
   "cell_type": "code",
   "execution_count": 459,
   "metadata": {},
   "outputs": [
    {
     "data": {
      "text/html": [
       "<div>\n",
       "<style scoped>\n",
       "    .dataframe tbody tr th:only-of-type {\n",
       "        vertical-align: middle;\n",
       "    }\n",
       "\n",
       "    .dataframe tbody tr th {\n",
       "        vertical-align: top;\n",
       "    }\n",
       "\n",
       "    .dataframe thead th {\n",
       "        text-align: right;\n",
       "    }\n",
       "</style>\n",
       "<table border=\"1\" class=\"dataframe\">\n",
       "  <thead>\n",
       "    <tr style=\"text-align: right;\">\n",
       "      <th></th>\n",
       "      <th>0</th>\n",
       "    </tr>\n",
       "  </thead>\n",
       "  <tbody>\n",
       "    <tr>\n",
       "      <th>FeK</th>\n",
       "      <td>0.243283</td>\n",
       "    </tr>\n",
       "    <tr>\n",
       "      <th>K KA</th>\n",
       "      <td>0.215782</td>\n",
       "    </tr>\n",
       "    <tr>\n",
       "      <th>TiK</th>\n",
       "      <td>0.168393</td>\n",
       "    </tr>\n",
       "    <tr>\n",
       "      <th>SiK</th>\n",
       "      <td>0.132932</td>\n",
       "    </tr>\n",
       "    <tr>\n",
       "      <th>AlK</th>\n",
       "      <td>0.131628</td>\n",
       "    </tr>\n",
       "    <tr>\n",
       "      <th>CaKA</th>\n",
       "      <td>0.107982</td>\n",
       "    </tr>\n",
       "  </tbody>\n",
       "</table>\n",
       "</div>"
      ],
      "text/plain": [
       "             0\n",
       "FeK   0.243283\n",
       "K KA  0.215782\n",
       "TiK   0.168393\n",
       "SiK   0.132932\n",
       "AlK   0.131628\n",
       "CaKA  0.107982"
      ]
     },
     "execution_count": 459,
     "metadata": {},
     "output_type": "execute_result"
    }
   ],
   "source": [
    "features = HU_features\n",
    "Tested_db = HU\n",
    "X_train, X_test, y_train, y_test = train_test_split(Tested_db[features], Tested_db[\"model\"], test_size=test_ratio)\n",
    "class_rf.fit(X_train, y_train)\n",
    "db_importance = pd.DataFrame(class_rf.feature_importances_, index =features )\n",
    "db_importance.sort_values(0,ascending=False).head(10)"
   ]
  },
  {
   "cell_type": "markdown",
   "metadata": {},
   "source": [
    "ICP"
   ]
  },
  {
   "cell_type": "code",
   "execution_count": 460,
   "metadata": {},
   "outputs": [
    {
     "data": {
      "text/html": [
       "<div>\n",
       "<style scoped>\n",
       "    .dataframe tbody tr th:only-of-type {\n",
       "        vertical-align: middle;\n",
       "    }\n",
       "\n",
       "    .dataframe tbody tr th {\n",
       "        vertical-align: top;\n",
       "    }\n",
       "\n",
       "    .dataframe thead th {\n",
       "        text-align: right;\n",
       "    }\n",
       "</style>\n",
       "<table border=\"1\" class=\"dataframe\">\n",
       "  <thead>\n",
       "    <tr style=\"text-align: right;\">\n",
       "      <th></th>\n",
       "      <th>0</th>\n",
       "    </tr>\n",
       "  </thead>\n",
       "  <tbody>\n",
       "    <tr>\n",
       "      <th>CaKA</th>\n",
       "      <td>0.070997</td>\n",
       "    </tr>\n",
       "    <tr>\n",
       "      <th>Bi</th>\n",
       "      <td>0.042062</td>\n",
       "    </tr>\n",
       "    <tr>\n",
       "      <th>ZnKA</th>\n",
       "      <td>0.037384</td>\n",
       "    </tr>\n",
       "    <tr>\n",
       "      <th>Ce</th>\n",
       "      <td>0.034890</td>\n",
       "    </tr>\n",
       "    <tr>\n",
       "      <th>Rb</th>\n",
       "      <td>0.033729</td>\n",
       "    </tr>\n",
       "    <tr>\n",
       "      <th>Pb</th>\n",
       "      <td>0.031014</td>\n",
       "    </tr>\n",
       "    <tr>\n",
       "      <th>U</th>\n",
       "      <td>0.030298</td>\n",
       "    </tr>\n",
       "    <tr>\n",
       "      <th>Ga</th>\n",
       "      <td>0.029401</td>\n",
       "    </tr>\n",
       "    <tr>\n",
       "      <th>Th</th>\n",
       "      <td>0.028684</td>\n",
       "    </tr>\n",
       "    <tr>\n",
       "      <th>Nd</th>\n",
       "      <td>0.028571</td>\n",
       "    </tr>\n",
       "  </tbody>\n",
       "</table>\n",
       "</div>"
      ],
      "text/plain": [
       "             0\n",
       "CaKA  0.070997\n",
       "Bi    0.042062\n",
       "ZnKA  0.037384\n",
       "Ce    0.034890\n",
       "Rb    0.033729\n",
       "Pb    0.031014\n",
       "U     0.030298\n",
       "Ga    0.029401\n",
       "Th    0.028684\n",
       "Nd    0.028571"
      ]
     },
     "execution_count": 460,
     "metadata": {},
     "output_type": "execute_result"
    }
   ],
   "source": [
    "features = DEB_features\n",
    "Tested_db = DEB\n",
    "X_train, X_test, y_train, y_test = train_test_split(Tested_db[features], Tested_db[\"model\"], test_size=test_ratio)\n",
    "class_rf.fit(X_train, y_train)\n",
    "db_importance = pd.DataFrame(class_rf.feature_importances_, index =features )\n",
    "db_importance.sort_values(0,ascending=False).head(10)"
   ]
  },
  {
   "cell_type": "markdown",
   "metadata": {},
   "source": [
    "EDS"
   ]
  },
  {
   "cell_type": "code",
   "execution_count": 461,
   "metadata": {},
   "outputs": [
    {
     "data": {
      "text/html": [
       "<div>\n",
       "<style scoped>\n",
       "    .dataframe tbody tr th:only-of-type {\n",
       "        vertical-align: middle;\n",
       "    }\n",
       "\n",
       "    .dataframe tbody tr th {\n",
       "        vertical-align: top;\n",
       "    }\n",
       "\n",
       "    .dataframe thead th {\n",
       "        text-align: right;\n",
       "    }\n",
       "</style>\n",
       "<table border=\"1\" class=\"dataframe\">\n",
       "  <thead>\n",
       "    <tr style=\"text-align: right;\">\n",
       "      <th></th>\n",
       "      <th>0</th>\n",
       "    </tr>\n",
       "  </thead>\n",
       "  <tbody>\n",
       "    <tr>\n",
       "      <th>AlK</th>\n",
       "      <td>0.190487</td>\n",
       "    </tr>\n",
       "    <tr>\n",
       "      <th>CaKA</th>\n",
       "      <td>0.183078</td>\n",
       "    </tr>\n",
       "    <tr>\n",
       "      <th>K KA</th>\n",
       "      <td>0.161981</td>\n",
       "    </tr>\n",
       "    <tr>\n",
       "      <th>MgK</th>\n",
       "      <td>0.142705</td>\n",
       "    </tr>\n",
       "    <tr>\n",
       "      <th>FeK</th>\n",
       "      <td>0.108545</td>\n",
       "    </tr>\n",
       "    <tr>\n",
       "      <th>NaK</th>\n",
       "      <td>0.107860</td>\n",
       "    </tr>\n",
       "    <tr>\n",
       "      <th>SiK</th>\n",
       "      <td>0.105343</td>\n",
       "    </tr>\n",
       "  </tbody>\n",
       "</table>\n",
       "</div>"
      ],
      "text/plain": [
       "             0\n",
       "AlK   0.190487\n",
       "CaKA  0.183078\n",
       "K KA  0.161981\n",
       "MgK   0.142705\n",
       "FeK   0.108545\n",
       "NaK   0.107860\n",
       "SiK   0.105343"
      ]
     },
     "execution_count": 461,
     "metadata": {},
     "output_type": "execute_result"
    }
   ],
   "source": [
    "features = EDS_features\n",
    "Tested_db = EDS\n",
    "X_train, X_test, y_train, y_test = train_test_split(Tested_db[features], Tested_db[\"model\"], test_size=test_ratio)\n",
    "class_rf.fit(X_train, y_train)\n",
    "db_importance = pd.DataFrame(class_rf.feature_importances_, index =features )\n",
    "db_importance.sort_values(0,ascending=False).head(10)"
   ]
  },
  {
   "cell_type": "markdown",
   "metadata": {},
   "source": [
    "## Combining the best of both"
   ]
  },
  {
   "cell_type": "code",
   "execution_count": 489,
   "metadata": {},
   "outputs": [],
   "source": [
    "best_of = IRB.copy()\n",
    "best_of = best_of[best_of['type'] == \"surface\"]\n",
    "best_features = ['ZnKA','Ce','Zr','Rb','Eu','Sc','CoKA','La']\n",
    "best_of[best_features] = np.array(BARC[best_features])\n",
    "best_of_features = IRB_features + best_features"
   ]
  },
  {
   "cell_type": "code",
   "execution_count": 490,
   "metadata": {},
   "outputs": [
    {
     "name": "stdout",
     "output_type": "stream",
     "text": [
      "Recall mean: 0.915625 Recall STD: 0.06924537439425105\n",
      "Precision mean: 0.887079613095238 Precision STD: 0.09414603400170155\n",
      "F1- Score mean: 0.8955014776889774 F1- Score STD: 0.083616152466353\n"
     ]
    }
   ],
   "source": [
    "make_a_model(best_of[best_of_features],best_of[\"model\"])"
   ]
  },
  {
   "cell_type": "markdown",
   "metadata": {},
   "source": [
    "## Identifying features to improve EDS"
   ]
  },
  {
   "cell_type": "markdown",
   "metadata": {},
   "source": [
    "### USING RBI"
   ]
  },
  {
   "cell_type": "code",
   "execution_count": null,
   "metadata": {},
   "outputs": [],
   "source": [
    "perform2 = dict()\n",
    "for EDS_f_1 in EDS_features:\n",
    "    for EDS_f_2 in EDS_features:\n",
    "        print(\"Replacing\", EDS_f_1, \"and\", EDS_f_2)\n",
    "        EDS_cpy = EDS.copy()\n",
    "        EDS_cpy = EDS_cpy.sort_values(by=['type', 'sample_id'])\n",
    "        EDS_cpy = EDS_cpy.reset_index()\n",
    "        EDS_cpy[[EDS_f_1, EDS_f_2]] = IRB_cpy[[EDS_f_1, EDS_f_2]]\n",
    "        results = []\n",
    "        test_case = []\n",
    "        for i in range(iteration):\n",
    "            X_train, X_test, y_train, y_test = train_test_split(EDS_cpy[EDS_features], EDS_cpy[\"model\"], test_size=test_ratio)\n",
    "            class_rf.fit(X_train, y_train)\n",
    "            y_pred = class_rf.predict(X_test)\n",
    "            results.append(pd.DataFrame(classification_report(y_test, y_pred, output_dict=True, zero_division=0)))\n",
    "         #   test_case.append(class_rf.predict(HU_3_w_unknown[HU_3_w_unknown[\"type\"]==\"unknown\"][HU_3_w_features]))\n",
    "\n",
    "        precision = np.array([])\n",
    "        recall = np.array([])\n",
    "        f1score = np.array([])\n",
    "\n",
    "        for i in range(iteration):\n",
    "            precision = np.append(precision, results[i][\"weighted avg\"][\"precision\"])\n",
    "            recall = np.append(recall, results[i][\"weighted avg\"][\"recall\"])\n",
    "            f1score = np.append(f1score, results[i][\"weighted avg\"][\"f1-score\"])\n",
    "\n",
    "        print(\"Recall mean:\", recall.mean(), \"Recall STD:\", recall.std())\n",
    "        print(\"Precision mean:\", precision.mean(), \"Precision STD:\", precision.std())\n",
    "        print(\"F1- Score mean:\", f1score.mean(), \"F1- Score STD:\", f1score.std())\n",
    "        perform2[EDS_f_1+\"_\"+EDS_f_2] = f1score.mean()"
   ]
  }
 ],
 "metadata": {
  "interpreter": {
   "hash": "e0ebae9ee4d05694a0a9e4a63db9421d193f78b0c4375bda36bd913b1631e332"
  },
  "kernelspec": {
   "display_name": "Python 3 (ipykernel)",
   "language": "python",
   "name": "python3"
  },
  "language_info": {
   "codemirror_mode": {
    "name": "ipython",
    "version": 3
   },
   "file_extension": ".py",
   "mimetype": "text/x-python",
   "name": "python",
   "nbconvert_exporter": "python",
   "pygments_lexer": "ipython3",
   "version": "3.9.0"
  }
 },
 "nbformat": 4,
 "nbformat_minor": 2
}
